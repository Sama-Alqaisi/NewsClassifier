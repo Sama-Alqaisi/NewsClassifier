{
  "nbformat": 4,
  "nbformat_minor": 0,
  "metadata": {
    "colab": {
      "provenance": [],
      "collapsed_sections": [
        "BWHcyi_wKHKF",
        "bTlxp4p5KMj9",
        "1y6YLML_KPxo",
        "XKgsDnNcKWXC",
        "KU8NxMJbubLa",
        "XFhLg3LSU62P",
        "k7hbzIGhZQoh",
        "Gor3-2Eig9zP",
        "JbPzX-kOUyo4",
        "iFSRfDrlkYPJ",
        "JBLWYLiRkdHT",
        "QORY3jJ2q0rs",
        "IRbvQgnCkhvR",
        "YhqfiRZR5rzI"
      ]
    },
    "kernelspec": {
      "name": "python3",
      "display_name": "Python 3"
    },
    "language_info": {
      "name": "python"
    }
  },
  "cells": [
    {
      "cell_type": "code",
      "execution_count": null,
      "metadata": {
        "colab": {
          "base_uri": "https://localhost:8080/"
        },
        "id": "HEwKgHcnQG1E",
        "outputId": "b4bd7bf7-9a09-4613-e9fd-d169264cfba3"
      },
      "outputs": [
        {
          "output_type": "stream",
          "name": "stdout",
          "text": [
            "Mounted at /content/drive\n"
          ]
        }
      ],
      "source": [
        "from google.colab import drive\n",
        "drive.mount('/content/drive')"
      ]
    },
    {
      "cell_type": "markdown",
      "metadata": {
        "id": "BWHcyi_wKHKF"
      },
      "source": [
        "# **Read Data**"
      ]
    },
    {
      "cell_type": "code",
      "execution_count": null,
      "metadata": {
        "id": "Ddi51CWox8CK"
      },
      "outputs": [],
      "source": [
        "import pandas as pd"
      ]
    },
    {
      "cell_type": "code",
      "execution_count": null,
      "metadata": {
        "id": "jpZCgTzMAiw8"
      },
      "outputs": [],
      "source": [
        "news_train=pd.read_excel('/content/drive/MyDrive/News_train.xlsx')"
      ]
    },
    {
      "cell_type": "code",
      "execution_count": null,
      "metadata": {
        "colab": {
          "base_uri": "https://localhost:8080/"
        },
        "id": "qSchvg9YQ-QE",
        "outputId": "ecf2351b-4701-47a8-9cb4-42755e23afe0"
      },
      "outputs": [
        {
          "output_type": "execute_result",
          "data": {
            "text/plain": [
              "(5000, 2)"
            ]
          },
          "metadata": {},
          "execution_count": 4
        }
      ],
      "source": [
        "news_train.shape"
      ]
    },
    {
      "cell_type": "markdown",
      "metadata": {
        "id": "bTlxp4p5KMj9"
      },
      "source": [
        "# **Preprocessing**"
      ]
    },
    {
      "cell_type": "markdown",
      "metadata": {
        "id": "1y6YLML_KPxo"
      },
      "source": [
        "### **re**"
      ]
    },
    {
      "cell_type": "code",
      "source": [
        "!pip install pyarabic"
      ],
      "metadata": {
        "colab": {
          "base_uri": "https://localhost:8080/"
        },
        "id": "yG4FLKz8FT8C",
        "outputId": "96525059-e24b-4813-98d2-11f4ac1196c6"
      },
      "execution_count": null,
      "outputs": [
        {
          "output_type": "stream",
          "name": "stdout",
          "text": [
            "Collecting pyarabic\n",
            "  Downloading PyArabic-0.6.15-py3-none-any.whl (126 kB)\n",
            "\u001b[?25l     \u001b[90m━━━━━━━━━━━━━━━━━━━━━━━━━━━━━━━━━━━━━━━━\u001b[0m \u001b[32m0.0/126.4 kB\u001b[0m \u001b[31m?\u001b[0m eta \u001b[36m-:--:--\u001b[0m\r\u001b[2K     \u001b[91m━━━━━━━━━━━━━━━━━━━━━━━━━━━━━━━━━━━\u001b[0m\u001b[91m╸\u001b[0m\u001b[90m━━━━\u001b[0m \u001b[32m112.6/126.4 kB\u001b[0m \u001b[31m3.2 MB/s\u001b[0m eta \u001b[36m0:00:01\u001b[0m\r\u001b[2K     \u001b[90m━━━━━━━━━━━━━━━━━━━━━━━━━━━━━━━━━━━━━━━━\u001b[0m \u001b[32m126.4/126.4 kB\u001b[0m \u001b[31m2.7 MB/s\u001b[0m eta \u001b[36m0:00:00\u001b[0m\n",
            "\u001b[?25hRequirement already satisfied: six>=1.14.0 in /usr/local/lib/python3.10/dist-packages (from pyarabic) (1.16.0)\n",
            "Installing collected packages: pyarabic\n",
            "Successfully installed pyarabic-0.6.15\n"
          ]
        }
      ]
    },
    {
      "cell_type": "code",
      "source": [
        "import pyarabic"
      ],
      "metadata": {
        "id": "nOeGYNbeFXkk"
      },
      "execution_count": null,
      "outputs": []
    },
    {
      "cell_type": "code",
      "execution_count": null,
      "metadata": {
        "id": "llK2Eci2AyS1"
      },
      "outputs": [],
      "source": [
        "import re\n",
        "import unicodedata\n",
        "from pyarabic.araby import tokenize\n",
        "\n",
        "def normalize_arabic(text):\n",
        "    # Normalize Arabic text\n",
        "    text = ''.join(c for c in unicodedata.normalize('NFD', text) if unicodedata.category(c) != 'Mn') # remove diacritics\n",
        "    text = re.sub(\"[إأٱآا]\", \"ا\", text)\n",
        "    text = re.sub(\"ى\", \"ي\", text)\n",
        "    text = re.sub(\"ؤ\", \"ء\", text)\n",
        "    text = re.sub(\"ئ\", \"ء\", text)\n",
        "    text = re.sub(\"ة\", \"ه\", text)\n",
        "    text = re.sub('/', ' ', text)\n",
        "    text = re.sub('-', ' ', text)\n",
        "    text = re.sub('_', ' ', text)\n",
        "    text = re.sub(' و ', ' ', text)\n",
        "    text = re.sub(\"'\", ' ', text)\n",
        "    text = re.sub(\"``\", ' ', text)\n",
        "    text = re.sub('\"', ' ', text)\n",
        "    text = re.sub('%', ' ', text)\n",
        "    text = re.sub('»', ' ', text)\n",
        "    text = re.sub('«', ' ', text)\n",
        "    text = re.sub(r'\\bال(\\w+)\\b', r'\\1', text)\n",
        "    text = re.sub(r'\\bلل(\\w+)\\b', r'\\1', text)\n",
        "    text = re.sub(r'\\bبال(\\w+)\\b', r'\\1', text)\n",
        "    text = re.sub(r'[A-Za-z0-9]', r'', text)#remove english characters\n",
        "    text = re.sub(r'[0-9]', r'', text)#remove numbers\n",
        "    text = re.sub(r'[^\\w\\s]', r'', text)#remove punctuation\n",
        "\n",
        "    words = tokenize(text)\n",
        "\n",
        "    normalized_text = ' '.join(words)\n",
        "\n",
        "    return normalized_text"
      ]
    },
    {
      "cell_type": "code",
      "execution_count": null,
      "metadata": {
        "id": "zHJtqAx-C65d"
      },
      "outputs": [],
      "source": [
        "news_train['News'] = news_train['News'].apply(normalize_arabic)"
      ]
    },
    {
      "cell_type": "code",
      "execution_count": null,
      "metadata": {
        "colab": {
          "base_uri": "https://localhost:8080/"
        },
        "id": "vNnNttwgC62o",
        "outputId": "b7806fe0-7b51-48ac-a3b0-d72a8736094b"
      },
      "outputs": [
        {
          "output_type": "execute_result",
          "data": {
            "text/plain": [
              "0       اشتباك حريري عون اتهامات لباسيل تمسك ثلث معطل ...\n",
              "1                               عون حريري اصبح غريب اطوار\n",
              "2       وزير خارجيه امريكي ندرس سحب كامل قواتنا من افغ...\n",
              "3       افغانستان استعدادات حثيثه لاجتماع تركيا وكابل ...\n",
              "4                   اندبندنت مفاوضات سريه كادت تنقذ قذافي\n",
              "                              ...                        \n",
              "4995                اوروبا تبدا احصاء خساير فيضانات مدمره\n",
              "4996    قتل متظاهر رصاص خلال احتجاجات علي شح مياه في م...\n",
              "4997    وسايل اعلام ايرانيه تتحدث عن اندلاع احتجاجات ف...\n",
              "4998           مفاوضات افغانيه تتواصل في عاصمه قطريه دوحه\n",
              "4999    تعليق مفاوضات افغانيه في دوحه موقتا لمزيد من م...\n",
              "Name: News, Length: 5000, dtype: object"
            ]
          },
          "metadata": {},
          "execution_count": 9
        }
      ],
      "source": [
        "news_train['News']"
      ]
    },
    {
      "cell_type": "code",
      "execution_count": null,
      "metadata": {
        "colab": {
          "base_uri": "https://localhost:8080/"
        },
        "id": "ZiSx6tOrhv3K",
        "outputId": "afac37fd-293a-4f0a-cd3c-b495ab3b5ce3"
      },
      "outputs": [
        {
          "output_type": "execute_result",
          "data": {
            "text/plain": [
              "(5000, 2)"
            ]
          },
          "metadata": {},
          "execution_count": 10
        }
      ],
      "source": [
        "news_train.shape"
      ]
    },
    {
      "cell_type": "markdown",
      "metadata": {
        "id": "XKgsDnNcKWXC"
      },
      "source": [
        "### **nltk**"
      ]
    },
    {
      "cell_type": "code",
      "source": [
        "import nltk\n",
        "nltk.download('stopwords')\n",
        "\n",
        "from nltk.corpus import stopwords"
      ],
      "metadata": {
        "colab": {
          "base_uri": "https://localhost:8080/"
        },
        "id": "Kztx2gmGEmTQ",
        "outputId": "3c6f2255-aa61-4938-8f7e-ae8fba30ff8c"
      },
      "execution_count": null,
      "outputs": [
        {
          "output_type": "stream",
          "name": "stderr",
          "text": [
            "[nltk_data] Downloading package stopwords to /root/nltk_data...\n",
            "[nltk_data]   Unzipping corpora/stopwords.zip.\n"
          ]
        }
      ]
    },
    {
      "cell_type": "code",
      "execution_count": null,
      "metadata": {
        "id": "NZmYopVYFvmM"
      },
      "outputs": [],
      "source": [
        "import re\n",
        "from pyarabic.araby import tokenize\n",
        "from nltk.corpus import stopwords\n",
        "from nltk.stem import ISRIStemmer\n",
        "\n",
        "stemmer = ISRIStemmer()\n",
        "\n",
        "def preprocess_text(text):\n",
        "    # Tokenization for Arabic text using PyArabic's tokenize function\n",
        "    tokens = tokenize(text)\n",
        "\n",
        "    # Get Arabic stop words from NLTK\n",
        "    stop_words_arabic = set(stopwords.words('arabic'))\n",
        "\n",
        "    # Remove stop words\n",
        "    arabic_tokens = [token for token in tokens if token not in stop_words_arabic]\n",
        "\n",
        "    # Stemming Arabic text\n",
        "    arabic_tokens = [stemmer.stem(token) for token in arabic_tokens]\n",
        "\n",
        "    # Join tokens back into text\n",
        "    processed_text = ' '.join(arabic_tokens)\n",
        "\n",
        "    return processed_text"
      ]
    },
    {
      "cell_type": "code",
      "execution_count": null,
      "metadata": {
        "id": "3eIzGzoYZ9HO"
      },
      "outputs": [],
      "source": [
        "preprocessed_documents_news_train = [preprocess_text(doc) for doc in news_train['News']]"
      ]
    },
    {
      "cell_type": "code",
      "execution_count": null,
      "metadata": {
        "colab": {
          "base_uri": "https://localhost:8080/"
        },
        "id": "rfRwf66caP9A",
        "outputId": "03fc4588-0cbe-4c78-df00-9b5af0e735e6"
      },
      "outputs": [
        {
          "output_type": "execute_result",
          "data": {
            "text/plain": [
              "5000"
            ]
          },
          "metadata": {},
          "execution_count": 14
        }
      ],
      "source": [
        "len(preprocessed_documents_news_train)"
      ]
    },
    {
      "cell_type": "markdown",
      "metadata": {
        "id": "KU8NxMJbubLa"
      },
      "source": [
        "# **Splitting the data into training and validation**"
      ]
    },
    {
      "cell_type": "code",
      "execution_count": null,
      "metadata": {
        "id": "bmuPmwOHqSfL"
      },
      "outputs": [],
      "source": [
        "news_train['processed_text'] = preprocessed_documents_news_train"
      ]
    },
    {
      "cell_type": "code",
      "execution_count": null,
      "metadata": {
        "colab": {
          "base_uri": "https://localhost:8080/"
        },
        "id": "MRtdxYItZm5K",
        "outputId": "97b09960-7af5-4023-ce6d-bde0e342b901"
      },
      "outputs": [
        {
          "output_type": "execute_result",
          "data": {
            "text/plain": [
              "0                 شبك حرر عون تهم اسل تمس ثلث عطل بقء حكم\n",
              "1                                    عون حرر اصبح غرب طور\n",
              "2                     وزر خرج امر درس سحب كمل قوت غنس حلل\n",
              "3       غنس عدد حثث جمع ترك كبل تهم طلب ركز علي حرب بد...\n",
              "4                            اندبندنت فاض سره كدت نقذ قذف\n",
              "                              ...                        \n",
              "4995                             ورب تبد حصء خسير فيض دمر\n",
              "4996      قتل ظاهر رصص خلل حجج علي شح ياه طقه جنب غرب اير\n",
              "4997                          سيل علم يرن حدث دلع حجج شرع\n",
              "4998                              فاض فغن وصل عصم قطر دوح\n",
              "4999                          علق فاض فغن دوح وقت زيد شار\n",
              "Name: processed_text, Length: 5000, dtype: object"
            ]
          },
          "metadata": {},
          "execution_count": 16
        }
      ],
      "source": [
        "news_train['processed_text']"
      ]
    },
    {
      "cell_type": "code",
      "execution_count": null,
      "metadata": {
        "colab": {
          "base_uri": "https://localhost:8080/"
        },
        "id": "IUTqRljYZB_e",
        "outputId": "e0d7f429-a30b-4ba3-9c58-78d8b77dd97f"
      },
      "outputs": [
        {
          "output_type": "execute_result",
          "data": {
            "text/plain": [
              "Index(['Type', 'News', 'processed_text'], dtype='object')"
            ]
          },
          "metadata": {},
          "execution_count": 17
        }
      ],
      "source": [
        "news_train.columns"
      ]
    },
    {
      "cell_type": "code",
      "execution_count": null,
      "metadata": {
        "id": "J7VAT3txjvER"
      },
      "outputs": [],
      "source": [
        "y=news_train['Type']\n",
        "X=news_train.drop(columns=['Type', 'News'], axis=1)"
      ]
    },
    {
      "cell_type": "code",
      "execution_count": null,
      "metadata": {
        "id": "sfwoItxEjelq"
      },
      "outputs": [],
      "source": [
        "from sklearn.model_selection import train_test_split\n",
        "X_train, X_test, y_train, y_test = train_test_split(X, y, test_size=0.15, random_state=42)"
      ]
    },
    {
      "cell_type": "code",
      "execution_count": null,
      "metadata": {
        "colab": {
          "base_uri": "https://localhost:8080/"
        },
        "id": "9oUkNNUOb1fL",
        "outputId": "b7900424-5703-41fa-d4eb-8ed2af67bfbd"
      },
      "outputs": [
        {
          "output_type": "execute_result",
          "data": {
            "text/plain": [
              "4250"
            ]
          },
          "metadata": {},
          "execution_count": 20
        }
      ],
      "source": [
        "len(X_train)"
      ]
    },
    {
      "cell_type": "markdown",
      "metadata": {
        "id": "XFhLg3LSU62P"
      },
      "source": [
        "# **Word Embedding(word2vec(CBOW))**"
      ]
    },
    {
      "cell_type": "code",
      "source": [
        "!wget \"https://bakrianoo.ewr1.vultrobjects.com/aravec/full_grams_cbow_300_twitter.zip\""
      ],
      "metadata": {
        "id": "UbK6DHB9w4Gt",
        "colab": {
          "base_uri": "https://localhost:8080/"
        },
        "outputId": "388a9094-f3da-47e4-d476-7cba9710f2a0"
      },
      "execution_count": null,
      "outputs": [
        {
          "output_type": "stream",
          "name": "stdout",
          "text": [
            "--2024-06-12 04:26:06--  https://bakrianoo.ewr1.vultrobjects.com/aravec/full_grams_cbow_300_twitter.zip\n",
            "Resolving bakrianoo.ewr1.vultrobjects.com (bakrianoo.ewr1.vultrobjects.com)... 108.61.0.122, 2001:19f0:0:22::100\n",
            "Connecting to bakrianoo.ewr1.vultrobjects.com (bakrianoo.ewr1.vultrobjects.com)|108.61.0.122|:443... connected.\n",
            "HTTP request sent, awaiting response... 200 OK\n",
            "Length: 3325529808 (3.1G) [application/zip]\n",
            "Saving to: ‘full_grams_cbow_300_twitter.zip’\n",
            "\n",
            "full_grams_cbow_300 100%[===================>]   3.10G  55.4MB/s    in 60s     \n",
            "\n",
            "2024-06-12 04:27:06 (53.2 MB/s) - ‘full_grams_cbow_300_twitter.zip’ saved [3325529808/3325529808]\n",
            "\n"
          ]
        }
      ]
    },
    {
      "cell_type": "code",
      "source": [
        "!unzip \"full_grams_cbow_300_twitter.zip\""
      ],
      "metadata": {
        "colab": {
          "base_uri": "https://localhost:8080/"
        },
        "id": "q5uKgFsMy7ky",
        "outputId": "6cf4f718-aebb-4338-dcef-d3be6ea96bb7"
      },
      "execution_count": null,
      "outputs": [
        {
          "output_type": "stream",
          "name": "stdout",
          "text": [
            "Archive:  full_grams_cbow_300_twitter.zip\n",
            "  inflating: full_grams_cbow_300_twitter.mdl  \n",
            "  inflating: full_grams_cbow_300_twitter.mdl.trainables.syn1neg.npy  \n",
            "  inflating: full_grams_cbow_300_twitter.mdl.wv.vectors.npy  \n"
          ]
        }
      ]
    },
    {
      "cell_type": "code",
      "source": [
        "import gensim"
      ],
      "metadata": {
        "id": "eTsVL8RgxQTg"
      },
      "execution_count": null,
      "outputs": []
    },
    {
      "cell_type": "code",
      "source": [
        "w2v_model = gensim.models.Word2Vec.load('/content/full_grams_cbow_300_twitter.mdl')"
      ],
      "metadata": {
        "id": "cBmOsNA2k206"
      },
      "execution_count": null,
      "outputs": []
    },
    {
      "cell_type": "code",
      "source": [
        "OOV_tokens = []\n",
        "train_tokens = []\n",
        "test_tokens = []\n",
        "train_w2v_embeddings = []\n",
        "test_w2v_embeddings = []\n",
        "\n",
        "def get_doc_vec(sent, model, data):\n",
        "  w2v_embeddings = []\n",
        "  tokens = sent.split()\n",
        "  for word in tokens:\n",
        "    try:\n",
        "      if data == 'train':\n",
        "        w2v_embeddings.append(model.wv[word])\n",
        "        train_tokens.append(word)\n",
        "      else:\n",
        "        w2v_embeddings.append(model.wv[word])\n",
        "        test_tokens.append(word)\n",
        "    except:\n",
        "      #print(word, 'does not exist in the model.')\n",
        "      OOV_tokens.append(word) #if found any -> go back to pre-processing the data\n",
        "      continue\n",
        "  if len(w2v_embeddings) == 0:\n",
        "    return None\n",
        "  return sum(w2v_embeddings)/len(w2v_embeddings)"
      ],
      "metadata": {
        "id": "S3-m8d5ju5Hw"
      },
      "execution_count": null,
      "outputs": []
    },
    {
      "cell_type": "code",
      "source": [
        "X_train_w2v_embeddings = X_train['processed_text'].apply(lambda sent: get_doc_vec(sent, w2v_model,'train'))\n",
        "X_test_w2v_embeddings = X_test['processed_text'].apply(lambda sent: get_doc_vec(sent, w2v_model,'test'))"
      ],
      "metadata": {
        "id": "yYhhtYFTJCq3"
      },
      "execution_count": null,
      "outputs": []
    },
    {
      "cell_type": "code",
      "source": [
        "X_train_w2v_embeddings_list = []\n",
        "for embedding in X_train_w2v_embeddings:\n",
        "    if embedding is not None:\n",
        "        X_train_w2v_embeddings_list.append(embedding)\n",
        "    else:\n",
        "        # Handle cases where the embedding is None\n",
        "        X_train_w2v_embeddings_list.append(np.zeros_like(X_train_w2v_embeddings[0]))\n",
        "\n",
        "X_test_w2v_embeddings_list = []\n",
        "for embedding in X_test_w2v_embeddings:\n",
        "    if embedding is not None:\n",
        "        X_test_w2v_embeddings_list.append(embedding)\n",
        "    else:\n",
        "        # Handle cases where the embedding is None\n",
        "        X_test_w2v_embeddings_list.append(np.zeros_like(X_test_w2v_embeddings[0]))\n"
      ],
      "metadata": {
        "id": "3MgU6_TTOHM7"
      },
      "execution_count": null,
      "outputs": []
    },
    {
      "cell_type": "code",
      "source": [
        "#X_train_w2v_embeddings_list"
      ],
      "metadata": {
        "id": "yU-ug5jGxjf_"
      },
      "execution_count": null,
      "outputs": []
    },
    {
      "cell_type": "markdown",
      "source": [
        "# **Models**"
      ],
      "metadata": {
        "id": "BsNsZ8dQg5q5"
      }
    },
    {
      "cell_type": "markdown",
      "source": [
        "# **Traditional Models**"
      ],
      "metadata": {
        "id": "k7hbzIGhZQoh"
      }
    },
    {
      "cell_type": "markdown",
      "source": [
        "## **Naive Bayes**"
      ],
      "metadata": {
        "id": "Gor3-2Eig9zP"
      }
    },
    {
      "cell_type": "code",
      "source": [
        "from sklearn.naive_bayes import MultinomialNB, GaussianNB"
      ],
      "metadata": {
        "id": "VJG9ycs7isld"
      },
      "execution_count": null,
      "outputs": []
    },
    {
      "cell_type": "code",
      "source": [
        "from sklearn.metrics import accuracy_score, f1_score, classification_report"
      ],
      "metadata": {
        "id": "G7LsoVSblvMg"
      },
      "execution_count": null,
      "outputs": []
    },
    {
      "cell_type": "code",
      "source": [
        "naive_bayes_classifier = GaussianNB()\n",
        "naive_bayes_classifier.fit(X_train_w2v_embeddings_list, y_train)\n",
        "\n",
        "y_pred = naive_bayes_classifier.predict(X_test_w2v_embeddings_list)\n",
        "\n",
        "accuracy_NB = accuracy_score(y_test, y_pred)\n",
        "f1_NB = f1_score(y_test, y_pred,average='macro')\n",
        "print('accuracy',accuracy_NB)\n",
        "print('f1 score',f1_NB)\n",
        "\n",
        "print(\"Classification Report:\")\n",
        "print(classification_report(y_test, y_pred))"
      ],
      "metadata": {
        "id": "XOOuI1S7mJjR",
        "colab": {
          "base_uri": "https://localhost:8080/"
        },
        "outputId": "c5361115-7108-4def-fb20-ea4c378c6fa2"
      },
      "execution_count": null,
      "outputs": [
        {
          "output_type": "stream",
          "name": "stdout",
          "text": [
            "accuracy 0.764\n",
            "f1 score 0.5731391019726121\n",
            "Classification Report:\n",
            "              precision    recall  f1-score   support\n",
            "\n",
            "    economic       0.66      0.58      0.62       134\n",
            "    politics       0.87      0.81      0.84       488\n",
            "       sport       0.62      0.80      0.70       120\n",
            "        tech       0.09      0.25      0.13         8\n",
            "\n",
            "    accuracy                           0.76       750\n",
            "   macro avg       0.56      0.61      0.57       750\n",
            "weighted avg       0.79      0.76      0.77       750\n",
            "\n"
          ]
        }
      ]
    },
    {
      "cell_type": "markdown",
      "source": [
        "## **Decision Tree**"
      ],
      "metadata": {
        "id": "JbPzX-kOUyo4"
      }
    },
    {
      "cell_type": "code",
      "source": [
        "from sklearn.tree import DecisionTreeClassifier"
      ],
      "metadata": {
        "id": "bZW6v8ANVHQ8"
      },
      "execution_count": null,
      "outputs": []
    },
    {
      "cell_type": "code",
      "source": [
        "from sklearn.metrics import accuracy_score, f1_score, classification_report"
      ],
      "metadata": {
        "id": "07-De86-VHQ8"
      },
      "execution_count": null,
      "outputs": []
    },
    {
      "cell_type": "code",
      "source": [
        "Decision_Tree_classifier = DecisionTreeClassifier()\n",
        "Decision_Tree_classifier.fit(X_train_w2v_embeddings_list, y_train)\n",
        "\n",
        "y_pred = Decision_Tree_classifier.predict(X_test_w2v_embeddings_list)\n",
        "\n",
        "accuracy_DT = accuracy_score(y_test, y_pred)\n",
        "f1_DT = f1_score(y_test, y_pred,average='macro')\n",
        "print('accuracy',accuracy_DT)\n",
        "print('f1 score',f1_DT)\n",
        "\n",
        "print(\"Classification Report:\")\n",
        "print(classification_report(y_test, y_pred))"
      ],
      "metadata": {
        "id": "5YNWj9YLVHQ9",
        "colab": {
          "base_uri": "https://localhost:8080/"
        },
        "outputId": "0441016e-914a-4561-a998-a11c94d37056"
      },
      "execution_count": null,
      "outputs": [
        {
          "output_type": "stream",
          "name": "stdout",
          "text": [
            "accuracy 0.6373333333333333\n",
            "f1 score 0.4330719189016602\n",
            "Classification Report:\n",
            "              precision    recall  f1-score   support\n",
            "\n",
            "    economic       0.42      0.40      0.41       134\n",
            "    politics       0.76      0.74      0.75       488\n",
            "       sport       0.48      0.53      0.50       120\n",
            "        tech       0.05      0.12      0.07         8\n",
            "\n",
            "    accuracy                           0.64       750\n",
            "   macro avg       0.43      0.45      0.43       750\n",
            "weighted avg       0.65      0.64      0.64       750\n",
            "\n"
          ]
        }
      ]
    },
    {
      "cell_type": "markdown",
      "source": [
        "# **Neural Language Models**"
      ],
      "metadata": {
        "id": "iFSRfDrlkYPJ"
      }
    },
    {
      "cell_type": "code",
      "source": [
        "import numpy as np\n",
        "from keras.models import Sequential\n",
        "from keras.layers import Dense\n",
        "from keras.preprocessing.sequence import pad_sequences\n",
        "from tensorflow.keras.utils import to_categorical\n",
        "from sklearn.metrics import classification_report"
      ],
      "metadata": {
        "id": "BCYRtJLMCDKI"
      },
      "execution_count": null,
      "outputs": []
    },
    {
      "cell_type": "markdown",
      "source": [
        "## **RNN (Recurrent Neural Networks)**"
      ],
      "metadata": {
        "id": "JBLWYLiRkdHT"
      }
    },
    {
      "cell_type": "code",
      "source": [
        "from keras.layers import SimpleRNN"
      ],
      "metadata": {
        "id": "xWGrZHcNH8e3"
      },
      "execution_count": null,
      "outputs": []
    },
    {
      "cell_type": "code",
      "source": [
        "# Convert lists to NumPy arrays\n",
        "X_train_ft_embeddings_array = np.array(X_train_w2v_embeddings_list)\n",
        "X_test_ft_embeddings_array = np.array(X_test_w2v_embeddings_list)\n",
        "\n",
        "label_mapping = {'economic': 0, 'politics': 1, 'sport': 2, 'tech': 3}\n",
        "\n",
        "num_class = len(set(label_mapping.values()))\n",
        "\n",
        "# Encode the categorical labels into numerical format using the mapping\n",
        "y_train_encoded_manual = np.array([label_mapping[label] for label in y_train])\n",
        "y_test_encoded_manual = np.array([label_mapping[label] for label in y_test])\n",
        "\n",
        "# Convert labels to one-hot encoding\n",
        "y_train_one_hot = to_categorical(y_train_encoded_manual, num_classes=num_class)\n",
        "y_test_one_hot = to_categorical(y_test_encoded_manual, num_classes=num_class)\n",
        "\n",
        "# Reshape the input data to add a timestep dimension\n",
        "X_train_reshaped = X_train_ft_embeddings_array.reshape(-1, 1, X_train_ft_embeddings_array.shape[1])\n",
        "X_test_reshaped = X_test_ft_embeddings_array.reshape(-1, 1, X_test_ft_embeddings_array.shape[1])\n",
        "\n",
        "model = Sequential()\n",
        "\n",
        "# Add SimpleRNN layer\n",
        "model.add(SimpleRNN(units=64, input_shape=(1, X_train_ft_embeddings_array.shape[1])))\n",
        "\n",
        "# Add output layer\n",
        "model.add(Dense(units=num_class, activation='softmax'))\n",
        "\n",
        "# Compile the model with categorical_crossentropy for one-hot encoded labels\n",
        "model.compile(optimizer='adam', loss='categorical_crossentropy', metrics=['accuracy'])\n",
        "\n",
        "# Train the model using the one-hot encoded labels\n",
        "model.fit(X_train_reshaped, y_train_one_hot, epochs=10, batch_size=32)\n",
        "\n",
        "# Predict probabilities for the test set\n",
        "y_pred_probabilities = model.predict(X_test_reshaped)\n",
        "\n",
        "# Convert probabilities to class labels\n",
        "y_pred_encoded_manual = np.argmax(y_pred_probabilities, axis=1)\n",
        "\n",
        "print(\"Classification Report:\")\n",
        "print(classification_report(y_test_one_hot.argmax(axis=1), y_pred_encoded_manual))\n",
        "\n",
        "accuracy_RNN = accuracy_score(y_test_one_hot.argmax(axis=1), y_pred_encoded_manual)\n",
        "f1_RNN = f1_score(y_test_one_hot.argmax(axis=1), y_pred_encoded_manual,average='macro')\n",
        "print('accuracy',accuracy_RNN)\n",
        "print('f1 score',f1_RNN)\n"
      ],
      "metadata": {
        "colab": {
          "base_uri": "https://localhost:8080/"
        },
        "id": "I3vB5REhIHcZ",
        "outputId": "19813ce2-98fc-491d-c532-8e89f80a46a2"
      },
      "execution_count": null,
      "outputs": [
        {
          "output_type": "stream",
          "name": "stdout",
          "text": [
            "Epoch 1/10\n",
            "133/133 [==============================] - 2s 3ms/step - loss: 0.6901 - accuracy: 0.7496\n",
            "Epoch 2/10\n",
            "133/133 [==============================] - 0s 3ms/step - loss: 0.4627 - accuracy: 0.8355\n",
            "Epoch 3/10\n",
            "133/133 [==============================] - 0s 3ms/step - loss: 0.4030 - accuracy: 0.8565\n",
            "Epoch 4/10\n",
            "133/133 [==============================] - 0s 3ms/step - loss: 0.3674 - accuracy: 0.8694\n",
            "Epoch 5/10\n",
            "133/133 [==============================] - 1s 5ms/step - loss: 0.3516 - accuracy: 0.8736\n",
            "Epoch 6/10\n",
            "133/133 [==============================] - 1s 5ms/step - loss: 0.3221 - accuracy: 0.8871\n",
            "Epoch 7/10\n",
            "133/133 [==============================] - 1s 5ms/step - loss: 0.3088 - accuracy: 0.8854\n",
            "Epoch 8/10\n",
            "133/133 [==============================] - 1s 4ms/step - loss: 0.2948 - accuracy: 0.8934\n",
            "Epoch 9/10\n",
            "133/133 [==============================] - 1s 4ms/step - loss: 0.2833 - accuracy: 0.8969\n",
            "Epoch 10/10\n",
            "133/133 [==============================] - 1s 4ms/step - loss: 0.2666 - accuracy: 0.9031\n",
            "24/24 [==============================] - 0s 3ms/step\n",
            "Classification Report:\n",
            "              precision    recall  f1-score   support\n",
            "\n",
            "           0       0.87      0.71      0.78       134\n",
            "           1       0.88      0.96      0.92       488\n",
            "           2       0.89      0.80      0.84       120\n",
            "           3       0.50      0.12      0.20         8\n",
            "\n",
            "    accuracy                           0.88       750\n",
            "   macro avg       0.78      0.65      0.69       750\n",
            "weighted avg       0.88      0.88      0.87       750\n",
            "\n",
            "accuracy 0.8786666666666667\n",
            "f1 score 0.685145788604345\n"
          ]
        }
      ]
    },
    {
      "cell_type": "markdown",
      "source": [
        "## **LSTM (Long Short Term Memory)**"
      ],
      "metadata": {
        "id": "QORY3jJ2q0rs"
      }
    },
    {
      "cell_type": "code",
      "source": [
        "from keras.layers import LSTM"
      ],
      "metadata": {
        "id": "SeNFbMqkjtCQ"
      },
      "execution_count": null,
      "outputs": []
    },
    {
      "cell_type": "code",
      "source": [
        "# Convert lists to NumPy arrays\n",
        "X_train_ft_embeddings_array = np.array(X_train_w2v_embeddings_list)\n",
        "X_test_ft_embeddings_array = np.array(X_test_w2v_embeddings_list)\n",
        "\n",
        "label_mapping = {'economic': 0, 'politics': 1, 'sport': 2, 'tech': 3}\n",
        "\n",
        "num_class = len(set(label_mapping.values()))\n",
        "\n",
        "# Encode the categorical labels into numerical format using the mapping\n",
        "y_train_encoded_manual = np.array([label_mapping[label] for label in y_train])\n",
        "y_test_encoded_manual = np.array([label_mapping[label] for label in y_test])\n",
        "\n",
        "# Convert labels to one-hot encoding\n",
        "y_train_one_hot = to_categorical(y_train_encoded_manual, num_classes=num_class)\n",
        "y_test_one_hot = to_categorical(y_test_encoded_manual, num_classes=num_class)\n",
        "\n",
        "# Reshape the input data to add a timestep dimension\n",
        "X_train_reshaped = X_train_ft_embeddings_array.reshape(-1, 1, X_train_ft_embeddings_array.shape[1])\n",
        "X_test_reshaped = X_test_ft_embeddings_array.reshape(-1, 1, X_test_ft_embeddings_array.shape[1])\n",
        "\n",
        "model = Sequential()\n",
        "\n",
        "# Add LSTM layer\n",
        "model.add(LSTM(units=64, input_shape=(1, X_train_ft_embeddings_array.shape[1])))\n",
        "\n",
        "# Add output layer\n",
        "model.add(Dense(units=num_class, activation='softmax'))\n",
        "\n",
        "# Compile the model with categorical_crossentropy for one-hot encoded labels\n",
        "model.compile(optimizer='adam', loss='categorical_crossentropy', metrics=['accuracy'])\n",
        "\n",
        "# Train the model using the one-hot encoded labels\n",
        "model.fit(X_train_reshaped, y_train_one_hot, epochs=10, batch_size=32)\n",
        "\n",
        "# Predict probabilities for the test set\n",
        "y_pred_probabilities = model.predict(X_test_reshaped)\n",
        "\n",
        "# Convert probabilities to class labels\n",
        "y_pred_encoded_manual = np.argmax(y_pred_probabilities, axis=1)\n",
        "\n",
        "print(\"Classification Report:\")\n",
        "print(classification_report(y_test_one_hot.argmax(axis=1), y_pred_encoded_manual))\n",
        "\n",
        "accuracy_LSTM = accuracy_score(y_test_one_hot.argmax(axis=1), y_pred_encoded_manual)\n",
        "f1_LSTM = f1_score(y_test_one_hot.argmax(axis=1), y_pred_encoded_manual,average='macro')\n",
        "print('accuracy',accuracy_LSTM)\n",
        "print('f1 score',f1_LSTM)\n"
      ],
      "metadata": {
        "colab": {
          "base_uri": "https://localhost:8080/"
        },
        "id": "QGFvwpH3C2a1",
        "outputId": "49dbd124-c6b8-4d2e-b62f-2704358fb977"
      },
      "execution_count": null,
      "outputs": [
        {
          "output_type": "stream",
          "name": "stdout",
          "text": [
            "Epoch 1/10\n",
            "133/133 [==============================] - 3s 5ms/step - loss: 0.7091 - accuracy: 0.7348\n",
            "Epoch 2/10\n",
            "133/133 [==============================] - 1s 4ms/step - loss: 0.4495 - accuracy: 0.8386\n",
            "Epoch 3/10\n",
            "133/133 [==============================] - 1s 5ms/step - loss: 0.3848 - accuracy: 0.8584\n",
            "Epoch 4/10\n",
            "133/133 [==============================] - 1s 5ms/step - loss: 0.3471 - accuracy: 0.8769\n",
            "Epoch 5/10\n",
            "133/133 [==============================] - 1s 5ms/step - loss: 0.3197 - accuracy: 0.8894\n",
            "Epoch 6/10\n",
            "133/133 [==============================] - 1s 5ms/step - loss: 0.3002 - accuracy: 0.8944\n",
            "Epoch 7/10\n",
            "133/133 [==============================] - 1s 5ms/step - loss: 0.2727 - accuracy: 0.9016\n",
            "Epoch 8/10\n",
            "133/133 [==============================] - 1s 6ms/step - loss: 0.2491 - accuracy: 0.9148\n",
            "Epoch 9/10\n",
            "133/133 [==============================] - 1s 5ms/step - loss: 0.2275 - accuracy: 0.9209\n",
            "Epoch 10/10\n",
            "133/133 [==============================] - 1s 4ms/step - loss: 0.2044 - accuracy: 0.9282\n",
            "24/24 [==============================] - 1s 4ms/step\n",
            "Classification Report:\n",
            "              precision    recall  f1-score   support\n",
            "\n",
            "           0       0.82      0.72      0.77       134\n",
            "           1       0.89      0.94      0.91       488\n",
            "           2       0.83      0.82      0.82       120\n",
            "           3       0.67      0.25      0.36         8\n",
            "\n",
            "    accuracy                           0.87       750\n",
            "   macro avg       0.80      0.68      0.72       750\n",
            "weighted avg       0.87      0.87      0.87       750\n",
            "\n",
            "accuracy 0.872\n",
            "f1 score 0.7179804900393135\n"
          ]
        }
      ]
    },
    {
      "cell_type": "markdown",
      "source": [
        "## **GRU (Gate Recurrent Unit)**"
      ],
      "metadata": {
        "id": "IRbvQgnCkhvR"
      }
    },
    {
      "cell_type": "code",
      "source": [
        "from keras.layers import GRU"
      ],
      "metadata": {
        "id": "8PSCfIvoHnXh"
      },
      "execution_count": null,
      "outputs": []
    },
    {
      "cell_type": "code",
      "source": [
        "# Convert lists to NumPy arrays\n",
        "X_train_ft_embeddings_array = np.array(X_train_w2v_embeddings_list)\n",
        "X_test_ft_embeddings_array = np.array(X_test_w2v_embeddings_list)\n",
        "\n",
        "label_mapping = {'economic': 0, 'politics': 1, 'sport': 2, 'tech': 3}\n",
        "\n",
        "num_class = len(set(label_mapping.values()))\n",
        "\n",
        "# Encode the categorical labels into numerical format using the mapping\n",
        "y_train_encoded_manual = np.array([label_mapping[label] for label in y_train])\n",
        "y_test_encoded_manual = np.array([label_mapping[label] for label in y_test])\n",
        "\n",
        "# Convert labels to one-hot encoding\n",
        "y_train_one_hot = to_categorical(y_train_encoded_manual, num_classes=num_class)\n",
        "y_test_one_hot = to_categorical(y_test_encoded_manual, num_classes=num_class)\n",
        "\n",
        "# Reshape the input data to add a timestep dimension\n",
        "X_train_reshaped = X_train_ft_embeddings_array.reshape(-1, 1, X_train_ft_embeddings_array.shape[1])\n",
        "X_test_reshaped = X_test_ft_embeddings_array.reshape(-1, 1, X_test_ft_embeddings_array.shape[1])\n",
        "\n",
        "model = Sequential()\n",
        "\n",
        "# Add GRU layer\n",
        "model.add(GRU(units=64, input_shape=(1, X_train_ft_embeddings_array.shape[1])))\n",
        "\n",
        "# Add output layer\n",
        "model.add(Dense(units=num_class, activation='softmax'))\n",
        "\n",
        "# Compile the model with categorical_crossentropy for one-hot encoded labels\n",
        "model.compile(optimizer='adam', loss='categorical_crossentropy', metrics=['accuracy'])\n",
        "\n",
        "# Train the model using the one-hot encoded labels\n",
        "model.fit(X_train_reshaped, y_train_one_hot, epochs=10, batch_size=32)\n",
        "\n",
        "# Predict probabilities for the test set\n",
        "y_pred_probabilities = model.predict(X_test_reshaped)\n",
        "\n",
        "# Convert probabilities to class labels\n",
        "y_pred_encoded_manual = np.argmax(y_pred_probabilities, axis=1)\n",
        "\n",
        "print(\"Classification Report:\")\n",
        "print(classification_report(y_test_one_hot.argmax(axis=1), y_pred_encoded_manual))\n",
        "\n",
        "accuracy_GRU = accuracy_score(y_test_one_hot.argmax(axis=1), y_pred_encoded_manual)\n",
        "f1_GRU= f1_score(y_test_one_hot.argmax(axis=1), y_pred_encoded_manual,average='macro')\n",
        "print('accuracy',accuracy_GRU)\n",
        "print('f1 score',f1_GRU)\n"
      ],
      "metadata": {
        "colab": {
          "base_uri": "https://localhost:8080/"
        },
        "id": "g2eJCWnqHNy6",
        "outputId": "543003b1-aa4c-48d6-c1c5-41a7e1e23091"
      },
      "execution_count": null,
      "outputs": [
        {
          "output_type": "stream",
          "name": "stdout",
          "text": [
            "Epoch 1/10\n",
            "133/133 [==============================] - 3s 4ms/step - loss: 0.6649 - accuracy: 0.7504\n",
            "Epoch 2/10\n",
            "133/133 [==============================] - 1s 5ms/step - loss: 0.4461 - accuracy: 0.8433\n",
            "Epoch 3/10\n",
            "133/133 [==============================] - 1s 4ms/step - loss: 0.3837 - accuracy: 0.8640\n",
            "Epoch 4/10\n",
            "133/133 [==============================] - 1s 4ms/step - loss: 0.3514 - accuracy: 0.8744\n",
            "Epoch 5/10\n",
            "133/133 [==============================] - 1s 5ms/step - loss: 0.3247 - accuracy: 0.8805\n",
            "Epoch 6/10\n",
            "133/133 [==============================] - 1s 5ms/step - loss: 0.3012 - accuracy: 0.8894\n",
            "Epoch 7/10\n",
            "133/133 [==============================] - 1s 5ms/step - loss: 0.2753 - accuracy: 0.9068\n",
            "Epoch 8/10\n",
            "133/133 [==============================] - 1s 5ms/step - loss: 0.2596 - accuracy: 0.9082\n",
            "Epoch 9/10\n",
            "133/133 [==============================] - 1s 5ms/step - loss: 0.2408 - accuracy: 0.9134\n",
            "Epoch 10/10\n",
            "133/133 [==============================] - 1s 5ms/step - loss: 0.2189 - accuracy: 0.9242\n",
            "24/24 [==============================] - 1s 2ms/step\n",
            "Classification Report:\n",
            "              precision    recall  f1-score   support\n",
            "\n",
            "           0       0.88      0.71      0.79       134\n",
            "           1       0.88      0.96      0.92       488\n",
            "           2       0.88      0.78      0.83       120\n",
            "           3       0.60      0.38      0.46         8\n",
            "\n",
            "    accuracy                           0.88       750\n",
            "   macro avg       0.81      0.71      0.75       750\n",
            "weighted avg       0.88      0.88      0.87       750\n",
            "\n",
            "accuracy 0.8786666666666667\n",
            "f1 score 0.7480853815764157\n"
          ]
        }
      ]
    },
    {
      "cell_type": "markdown",
      "metadata": {
        "id": "YhqfiRZR5rzI"
      },
      "source": [
        "# **Plot**"
      ]
    },
    {
      "cell_type": "code",
      "source": [
        "import matplotlib.pyplot as plt\n",
        "models = ['Naive Bayes', 'Decision Tree', 'RNN', 'LSTM', 'GRU']\n",
        "accuracies = [accuracy_NB, accuracy_DT, accuracy_RNN, accuracy_LSTM, accuracy_GRU]\n",
        "f1_scores = [f1_NB, f1_DT, f1_RNN, f1_LSTM, f1_GRU]\n",
        "\n",
        "x = np.arange(len(models))\n",
        "width = 0.35\n",
        "\n",
        "fig, ax = plt.subplots()\n",
        "rects1 = ax.bar(x - width/2, accuracies, width, label='Accuracy',color='lightblue')\n",
        "rects2 = ax.bar(x + width/2, f1_scores, width, label='F1 Score',color='pink')\n",
        "\n",
        "ax.set_ylabel('Scores')\n",
        "ax.set_title('Accuracy and F1 Score by Model using Word2Vec embeddings')\n",
        "ax.set_xticks(x)\n",
        "ax.set_xticklabels(models)\n",
        "ax.legend()\n",
        "\n",
        "ax.set_ylim(0,1)\n",
        "fig.tight_layout()\n",
        "plt.show()"
      ],
      "metadata": {
        "colab": {
          "base_uri": "https://localhost:8080/"
        },
        "id": "XICP1ZeR5iIN",
        "outputId": "6dc4065f-b626-4e9b-8ffc-1d950ff64ac7"
      },
      "execution_count": null,
      "outputs": [
        {
          "output_type": "display_data",
          "data": {
            "text/plain": [
              "<Figure size 640x480 with 1 Axes>"
            ],
            "image/png": "[encoded data removed]"
          },
          "metadata": {}
        }
      ]
    }
  ]
}