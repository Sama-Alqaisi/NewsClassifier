{
  "nbformat": 4,
  "nbformat_minor": 0,
  "metadata": {
    "colab": {
      "provenance": [],
      "collapsed_sections": [
        "BWHcyi_wKHKF",
        "bTlxp4p5KMj9",
        "1y6YLML_KPxo",
        "XKgsDnNcKWXC",
        "KU8NxMJbubLa",
        "XFhLg3LSU62P",
        "k7hbzIGhZQoh",
        "Gor3-2Eig9zP",
        "JbPzX-kOUyo4",
        "iFSRfDrlkYPJ",
        "JBLWYLiRkdHT",
        "QORY3jJ2q0rs",
        "IRbvQgnCkhvR",
        "YhqfiRZR5rzI"
      ],
      "gpuType": "T4"
    },
    "kernelspec": {
      "name": "python3",
      "display_name": "Python 3"
    },
    "language_info": {
      "name": "python"
    },
    "accelerator": "GPU"
  },
  "cells": [
    {
      "cell_type": "code",
      "source": [
        "from google.colab import drive\n",
        "drive.mount('/content/drive')"
      ],
      "metadata": {
        "colab": {
          "base_uri": "https://localhost:8080/"
        },
        "id": "HEwKgHcnQG1E",
        "outputId": "5973022e-1734-4c64-9335-e21e0481304e"
      },
      "execution_count": null,
      "outputs": [
        {
          "output_type": "stream",
          "name": "stdout",
          "text": [
            "Mounted at /content/drive\n"
          ]
        }
      ]
    },
    {
      "cell_type": "markdown",
      "metadata": {
        "id": "BWHcyi_wKHKF"
      },
      "source": [
        "# **Read Data**"
      ]
    },
    {
      "cell_type": "code",
      "source": [
        "import pandas as pd"
      ],
      "metadata": {
        "id": "Ddi51CWox8CK"
      },
      "execution_count": null,
      "outputs": []
    },
    {
      "cell_type": "code",
      "execution_count": null,
      "metadata": {
        "id": "jpZCgTzMAiw8"
      },
      "outputs": [],
      "source": [
        "news_train=pd.read_excel('/content/drive/MyDrive/News_train.xlsx')"
      ]
    },
    {
      "cell_type": "code",
      "source": [
        "news_train.shape"
      ],
      "metadata": {
        "colab": {
          "base_uri": "https://localhost:8080/"
        },
        "id": "qSchvg9YQ-QE",
        "outputId": "58d0b3b0-0340-4033-c3bb-1c00bc455303"
      },
      "execution_count": null,
      "outputs": [
        {
          "output_type": "execute_result",
          "data": {
            "text/plain": [
              "(5000, 2)"
            ]
          },
          "metadata": {},
          "execution_count": 4
        }
      ]
    },
    {
      "cell_type": "markdown",
      "metadata": {
        "id": "bTlxp4p5KMj9"
      },
      "source": [
        "# **Preprocessing**"
      ]
    },
    {
      "cell_type": "markdown",
      "metadata": {
        "id": "1y6YLML_KPxo"
      },
      "source": [
        "### **re**"
      ]
    },
    {
      "cell_type": "code",
      "source": [
        "!pip install pyarabic"
      ],
      "metadata": {
        "colab": {
          "base_uri": "https://localhost:8080/"
        },
        "id": "yG4FLKz8FT8C",
        "outputId": "168fd0be-01be-40ff-b346-2ca3ba7096ff"
      },
      "execution_count": null,
      "outputs": [
        {
          "output_type": "stream",
          "name": "stdout",
          "text": [
            "Collecting pyarabic\n",
            "  Downloading PyArabic-0.6.15-py3-none-any.whl (126 kB)\n",
            "\u001b[?25l     \u001b[90m━━━━━━━━━━━━━━━━━━━━━━━━━━━━━━━━━━━━━━━━\u001b[0m \u001b[32m0.0/126.4 kB\u001b[0m \u001b[31m?\u001b[0m eta \u001b[36m-:--:--\u001b[0m\r\u001b[2K     \u001b[91m━━━━━━━━━━━━━━━━━━━━━━━━━\u001b[0m\u001b[91m╸\u001b[0m\u001b[90m━━━━━━━━━━━━━━\u001b[0m \u001b[32m81.9/126.4 kB\u001b[0m \u001b[31m2.2 MB/s\u001b[0m eta \u001b[36m0:00:01\u001b[0m\r\u001b[2K     \u001b[90m━━━━━━━━━━━━━━━━━━━━━━━━━━━━━━━━━━━━━━━━\u001b[0m \u001b[32m126.4/126.4 kB\u001b[0m \u001b[31m2.6 MB/s\u001b[0m eta \u001b[36m0:00:00\u001b[0m\n",
            "\u001b[?25hRequirement already satisfied: six>=1.14.0 in /usr/local/lib/python3.10/dist-packages (from pyarabic) (1.16.0)\n",
            "Installing collected packages: pyarabic\n",
            "Successfully installed pyarabic-0.6.15\n"
          ]
        }
      ]
    },
    {
      "cell_type": "code",
      "source": [
        "import pyarabic"
      ],
      "metadata": {
        "id": "nOeGYNbeFXkk"
      },
      "execution_count": null,
      "outputs": []
    },
    {
      "cell_type": "code",
      "execution_count": null,
      "metadata": {
        "id": "llK2Eci2AyS1"
      },
      "outputs": [],
      "source": [
        "import re\n",
        "import unicodedata\n",
        "from pyarabic.araby import tokenize\n",
        "\n",
        "def normalize_arabic(text):\n",
        "    # Normalize Arabic text\n",
        "    text = ''.join(c for c in unicodedata.normalize('NFD', text) if unicodedata.category(c) != 'Mn') # remove diacritics\n",
        "    text = re.sub(\"[إأٱآا]\", \"ا\", text)\n",
        "    text = re.sub(\"ى\", \"ي\", text)\n",
        "    text = re.sub(\"ؤ\", \"ء\", text)\n",
        "    text = re.sub(\"ئ\", \"ء\", text)\n",
        "    text = re.sub(\"ة\", \"ه\", text)\n",
        "    text = re.sub('/', ' ', text)\n",
        "    text = re.sub('-', ' ', text)\n",
        "    text = re.sub('_', ' ', text)\n",
        "    text = re.sub(' و ', ' ', text)\n",
        "    text = re.sub(\"'\", ' ', text)\n",
        "    text = re.sub(\"``\", ' ', text)\n",
        "    text = re.sub('\"', ' ', text)\n",
        "    text = re.sub('%', ' ', text)\n",
        "    text = re.sub('»', ' ', text)\n",
        "    text = re.sub('«', ' ', text)\n",
        "    text = re.sub(r'\\bال(\\w+)\\b', r'\\1', text)\n",
        "    text = re.sub(r'\\bلل(\\w+)\\b', r'\\1', text)\n",
        "    text = re.sub(r'\\bبال(\\w+)\\b', r'\\1', text)\n",
        "    text = re.sub(r'[A-Za-z0-9]', r'', text)#remove english characters\n",
        "    text = re.sub(r'[0-9]', r'', text)#remove numbers\n",
        "    text = re.sub(r'[^\\w\\s]', r'', text)#remove punctuation\n",
        "\n",
        "    words = tokenize(text)\n",
        "\n",
        "    normalized_text = ' '.join(words)\n",
        "\n",
        "    return normalized_text"
      ]
    },
    {
      "cell_type": "code",
      "execution_count": null,
      "metadata": {
        "id": "zHJtqAx-C65d"
      },
      "outputs": [],
      "source": [
        "news_train['News'] = news_train['News'].apply(normalize_arabic)"
      ]
    },
    {
      "cell_type": "code",
      "execution_count": null,
      "metadata": {
        "colab": {
          "base_uri": "https://localhost:8080/"
        },
        "id": "vNnNttwgC62o",
        "outputId": "c2b11ee0-d803-47f9-a2ac-b3354264287c"
      },
      "outputs": [
        {
          "output_type": "execute_result",
          "data": {
            "text/plain": [
              "0       اشتباك حريري عون اتهامات لباسيل تمسك ثلث معطل ...\n",
              "1                               عون حريري اصبح غريب اطوار\n",
              "2       وزير خارجيه امريكي ندرس سحب كامل قواتنا من افغ...\n",
              "3       افغانستان استعدادات حثيثه لاجتماع تركيا وكابل ...\n",
              "4                   اندبندنت مفاوضات سريه كادت تنقذ قذافي\n",
              "                              ...                        \n",
              "4995                اوروبا تبدا احصاء خساير فيضانات مدمره\n",
              "4996    قتل متظاهر رصاص خلال احتجاجات علي شح مياه في م...\n",
              "4997    وسايل اعلام ايرانيه تتحدث عن اندلاع احتجاجات ف...\n",
              "4998           مفاوضات افغانيه تتواصل في عاصمه قطريه دوحه\n",
              "4999    تعليق مفاوضات افغانيه في دوحه موقتا لمزيد من م...\n",
              "Name: News, Length: 5000, dtype: object"
            ]
          },
          "metadata": {},
          "execution_count": 9
        }
      ],
      "source": [
        "news_train['News']"
      ]
    },
    {
      "cell_type": "code",
      "execution_count": null,
      "metadata": {
        "colab": {
          "base_uri": "https://localhost:8080/"
        },
        "id": "ZiSx6tOrhv3K",
        "outputId": "87fa29e5-590f-4a72-84d8-b7a013766d29"
      },
      "outputs": [
        {
          "output_type": "execute_result",
          "data": {
            "text/plain": [
              "(5000, 2)"
            ]
          },
          "metadata": {},
          "execution_count": 10
        }
      ],
      "source": [
        "news_train.shape"
      ]
    },
    {
      "cell_type": "markdown",
      "metadata": {
        "id": "XKgsDnNcKWXC"
      },
      "source": [
        "### **nltk**"
      ]
    },
    {
      "cell_type": "code",
      "source": [
        "import nltk\n",
        "nltk.download('stopwords')\n",
        "\n",
        "from nltk.corpus import stopwords"
      ],
      "metadata": {
        "colab": {
          "base_uri": "https://localhost:8080/"
        },
        "id": "Kztx2gmGEmTQ",
        "outputId": "7c118957-e193-4ce2-a617-a54dcd4f241f"
      },
      "execution_count": null,
      "outputs": [
        {
          "output_type": "stream",
          "name": "stderr",
          "text": [
            "[nltk_data] Downloading package stopwords to /root/nltk_data...\n",
            "[nltk_data]   Unzipping corpora/stopwords.zip.\n"
          ]
        }
      ]
    },
    {
      "cell_type": "code",
      "execution_count": null,
      "metadata": {
        "id": "NZmYopVYFvmM"
      },
      "outputs": [],
      "source": [
        "import re\n",
        "from pyarabic.araby import tokenize\n",
        "from nltk.corpus import stopwords\n",
        "from nltk.stem import ISRIStemmer\n",
        "\n",
        "stemmer = ISRIStemmer()\n",
        "\n",
        "def preprocess_text(text):\n",
        "    # Tokenization for Arabic text using PyArabic's tokenize function\n",
        "    tokens = tokenize(text)\n",
        "\n",
        "    # Get Arabic stop words from NLTK\n",
        "    stop_words_arabic = set(stopwords.words('arabic'))\n",
        "\n",
        "    # Remove stop words\n",
        "    arabic_tokens = [token for token in tokens if token not in stop_words_arabic]\n",
        "\n",
        "    # Stemming Arabic text\n",
        "    arabic_tokens = [stemmer.stem(token) for token in arabic_tokens]\n",
        "\n",
        "    # Join tokens back into text\n",
        "    processed_text = ' '.join(arabic_tokens)\n",
        "\n",
        "    return processed_text"
      ]
    },
    {
      "cell_type": "code",
      "execution_count": null,
      "metadata": {
        "id": "3eIzGzoYZ9HO"
      },
      "outputs": [],
      "source": [
        "preprocessed_documents_news_train = [preprocess_text(doc) for doc in news_train['News']]"
      ]
    },
    {
      "cell_type": "code",
      "execution_count": null,
      "metadata": {
        "colab": {
          "base_uri": "https://localhost:8080/"
        },
        "id": "rfRwf66caP9A",
        "outputId": "edc549cc-adc2-4611-e303-e758c9a8769e"
      },
      "outputs": [
        {
          "output_type": "execute_result",
          "data": {
            "text/plain": [
              "5000"
            ]
          },
          "metadata": {},
          "execution_count": 14
        }
      ],
      "source": [
        "len(preprocessed_documents_news_train)"
      ]
    },
    {
      "cell_type": "markdown",
      "metadata": {
        "id": "KU8NxMJbubLa"
      },
      "source": [
        "# **Splitting the data into training and validation**"
      ]
    },
    {
      "cell_type": "code",
      "source": [
        "news_train['processed_text'] = preprocessed_documents_news_train"
      ],
      "metadata": {
        "id": "bmuPmwOHqSfL"
      },
      "execution_count": null,
      "outputs": []
    },
    {
      "cell_type": "code",
      "source": [
        "news_train['processed_text']"
      ],
      "metadata": {
        "colab": {
          "base_uri": "https://localhost:8080/"
        },
        "id": "MRtdxYItZm5K",
        "outputId": "bcbe1e78-03d3-43a7-de9d-72471cb56d41"
      },
      "execution_count": null,
      "outputs": [
        {
          "output_type": "execute_result",
          "data": {
            "text/plain": [
              "0                 شبك حرر عون تهم اسل تمس ثلث عطل بقء حكم\n",
              "1                                    عون حرر اصبح غرب طور\n",
              "2                     وزر خرج امر درس سحب كمل قوت غنس حلل\n",
              "3       غنس عدد حثث جمع ترك كبل تهم طلب ركز علي حرب بد...\n",
              "4                            اندبندنت فاض سره كدت نقذ قذف\n",
              "                              ...                        \n",
              "4995                             ورب تبد حصء خسير فيض دمر\n",
              "4996      قتل ظاهر رصص خلل حجج علي شح ياه طقه جنب غرب اير\n",
              "4997                          سيل علم يرن حدث دلع حجج شرع\n",
              "4998                              فاض فغن وصل عصم قطر دوح\n",
              "4999                          علق فاض فغن دوح وقت زيد شار\n",
              "Name: processed_text, Length: 5000, dtype: object"
            ]
          },
          "metadata": {},
          "execution_count": 16
        }
      ]
    },
    {
      "cell_type": "code",
      "source": [
        "news_train.columns"
      ],
      "metadata": {
        "colab": {
          "base_uri": "https://localhost:8080/"
        },
        "id": "IUTqRljYZB_e",
        "outputId": "5798facd-9b1b-4174-8c2c-2f39e8c1d692"
      },
      "execution_count": null,
      "outputs": [
        {
          "output_type": "execute_result",
          "data": {
            "text/plain": [
              "Index(['Type', 'News', 'processed_text'], dtype='object')"
            ]
          },
          "metadata": {},
          "execution_count": 17
        }
      ]
    },
    {
      "cell_type": "code",
      "source": [
        "y=news_train['Type']\n",
        "X=news_train.drop(columns=['Type', 'News'], axis=1)"
      ],
      "metadata": {
        "id": "J7VAT3txjvER"
      },
      "execution_count": null,
      "outputs": []
    },
    {
      "cell_type": "code",
      "source": [
        "from sklearn.model_selection import train_test_split\n",
        "X_train, X_test, y_train, y_test = train_test_split(X, y, test_size=0.15, random_state=42)"
      ],
      "metadata": {
        "id": "sfwoItxEjelq"
      },
      "execution_count": null,
      "outputs": []
    },
    {
      "cell_type": "code",
      "source": [
        "len(X_train)"
      ],
      "metadata": {
        "colab": {
          "base_uri": "https://localhost:8080/"
        },
        "id": "9oUkNNUOb1fL",
        "outputId": "6d5ebdae-e60c-4496-80f8-a19ea5765e7e"
      },
      "execution_count": null,
      "outputs": [
        {
          "output_type": "execute_result",
          "data": {
            "text/plain": [
              "4250"
            ]
          },
          "metadata": {},
          "execution_count": 20
        }
      ]
    },
    {
      "cell_type": "markdown",
      "metadata": {
        "id": "XFhLg3LSU62P"
      },
      "source": [
        "# **Word Embedding(FastText)**"
      ]
    },
    {
      "cell_type": "code",
      "source": [
        "pip install fasttext"
      ],
      "metadata": {
        "id": "jk7m8p2msrWp",
        "colab": {
          "base_uri": "https://localhost:8080/"
        },
        "outputId": "acc60d78-2eda-43dd-be0e-a04143c4238f"
      },
      "execution_count": null,
      "outputs": [
        {
          "output_type": "stream",
          "name": "stdout",
          "text": [
            "Collecting fasttext\n",
            "  Downloading fasttext-0.9.2.tar.gz (68 kB)\n",
            "\u001b[?25l     \u001b[90m━━━━━━━━━━━━━━━━━━━━━━━━━━━━━━━━━━━━━━━━\u001b[0m \u001b[32m0.0/68.8 kB\u001b[0m \u001b[31m?\u001b[0m eta \u001b[36m-:--:--\u001b[0m\r\u001b[2K     \u001b[91m━━━━━━━━━━━━━━━━━━━━━━━━━━━━━━━━━━━\u001b[0m\u001b[91m╸\u001b[0m\u001b[90m━━━━\u001b[0m \u001b[32m61.4/68.8 kB\u001b[0m \u001b[31m1.8 MB/s\u001b[0m eta \u001b[36m0:00:01\u001b[0m\r\u001b[2K     \u001b[90m━━━━━━━━━━━━━━━━━━━━━━━━━━━━━━━━━━━━━━━━\u001b[0m \u001b[32m68.8/68.8 kB\u001b[0m \u001b[31m1.6 MB/s\u001b[0m eta \u001b[36m0:00:00\u001b[0m\n",
            "\u001b[?25h  Preparing metadata (setup.py) ... \u001b[?25l\u001b[?25hdone\n",
            "Collecting pybind11>=2.2 (from fasttext)\n",
            "  Using cached pybind11-2.12.0-py3-none-any.whl (234 kB)\n",
            "Requirement already satisfied: setuptools>=0.7.0 in /usr/local/lib/python3.10/dist-packages (from fasttext) (67.7.2)\n",
            "Requirement already satisfied: numpy in /usr/local/lib/python3.10/dist-packages (from fasttext) (1.25.2)\n",
            "Building wheels for collected packages: fasttext\n",
            "  Building wheel for fasttext (setup.py) ... \u001b[?25l\u001b[?25hdone\n",
            "  Created wheel for fasttext: filename=fasttext-0.9.2-cp310-cp310-linux_x86_64.whl size=4227140 sha256=df1a3d5d0d9489cf76eb53b03809332051ae008391a624fb6967953343fcd459\n",
            "  Stored in directory: /root/.cache/pip/wheels/a5/13/75/f811c84a8ab36eedbaef977a6a58a98990e8e0f1967f98f394\n",
            "Successfully built fasttext\n",
            "Installing collected packages: pybind11, fasttext\n",
            "Successfully installed fasttext-0.9.2 pybind11-2.12.0\n"
          ]
        }
      ]
    },
    {
      "cell_type": "code",
      "source": [
        "!wget \"https://dl.fbaipublicfiles.com/fasttext/vectors-crawl/cc.ar.300.bin.gz\"\n",
        "input_gz_file = '/content/cc.ar.300.bin.gz'\n",
        "output_bin_file = 'cc.ar.300.bin'"
      ],
      "metadata": {
        "colab": {
          "base_uri": "https://localhost:8080/"
        },
        "id": "V5qglgmln67T",
        "outputId": "ae8b80cb-f6bb-47ac-fae2-fa49d6b8e8d2"
      },
      "execution_count": null,
      "outputs": [
        {
          "output_type": "stream",
          "name": "stdout",
          "text": [
            "--2024-06-12 04:49:03--  https://dl.fbaipublicfiles.com/fasttext/vectors-crawl/cc.ar.300.bin.gz\n",
            "Resolving dl.fbaipublicfiles.com (dl.fbaipublicfiles.com)... 13.33.183.33, 13.33.183.121, 13.33.183.115, ...\n",
            "Connecting to dl.fbaipublicfiles.com (dl.fbaipublicfiles.com)|13.33.183.33|:443... connected.\n",
            "HTTP request sent, awaiting response... 200 OK\n",
            "Length: 4500982519 (4.2G) [application/octet-stream]\n",
            "Saving to: ‘cc.ar.300.bin.gz’\n",
            "\n",
            "cc.ar.300.bin.gz    100%[===================>]   4.19G   118MB/s    in 43s     \n",
            "\n",
            "2024-06-12 04:49:47 (98.7 MB/s) - ‘cc.ar.300.bin.gz’ saved [4500982519/4500982519]\n",
            "\n"
          ]
        }
      ]
    },
    {
      "cell_type": "code",
      "source": [
        "import gzip\n",
        "\n",
        "def decompress_gz_to_bin(gz_file_path, bin_file_path):\n",
        "    try:\n",
        "        # Open the .gz file for reading\n",
        "        with gzip.open(gz_file_path, 'rb') as gz_file:\n",
        "            # Open or create the .bin file for writing\n",
        "            with open(bin_file_path, 'wb') as bin_file:\n",
        "                # Read chunks of data from the .gz file and write to the .bin file\n",
        "                while True:\n",
        "                    data = gz_file.read(1024)  # Read 1KB at a time\n",
        "                    if not data:\n",
        "                        break  # End of file\n",
        "                    bin_file.write(data)\n",
        "        print(f\"Decompression successful: {gz_file_path} -> {bin_file_path}\")\n",
        "    except FileNotFoundError:\n",
        "        print(f\"Error: File not found: {gz_file_path}\")\n",
        "    except Exception as e:\n",
        "        print(f\"Error: {e}\")\n",
        "\n",
        "decompress_gz_to_bin(input_gz_file, output_bin_file)"
      ],
      "metadata": {
        "id": "r9M7KWqbylqt",
        "colab": {
          "base_uri": "https://localhost:8080/"
        },
        "outputId": "4559ed31-b28b-41e8-dce4-ff4a4aab6beb"
      },
      "execution_count": null,
      "outputs": [
        {
          "output_type": "stream",
          "name": "stdout",
          "text": [
            "Decompression successful: /content/cc.ar.300.bin.gz -> cc.ar.300.bin\n"
          ]
        }
      ]
    },
    {
      "cell_type": "code",
      "source": [
        "import fasttext\n",
        "\n",
        "ft = fasttext.load_model(output_bin_file)#('cc.ar.300.bin')"
      ],
      "metadata": {
        "id": "j_6U9Ml5vQGE",
        "colab": {
          "base_uri": "https://localhost:8080/"
        },
        "outputId": "76841d10-8968-4286-e201-2b196a9fb738"
      },
      "execution_count": null,
      "outputs": [
        {
          "output_type": "stream",
          "name": "stderr",
          "text": [
            "Warning : `load_model` does not return WordVectorModel or SupervisedModel any more, but a `FastText` object which is very similar.\n"
          ]
        }
      ]
    },
    {
      "cell_type": "code",
      "source": [
        "OOV_tokens = []\n",
        "train_tokens = []\n",
        "test_tokens = []\n",
        "test_ft_embeddings = []\n",
        "\n",
        "def get_doc1_vec(sent, model, i, data):\n",
        "  tokens = sent.split()\n",
        "  ft_embeddings = []\n",
        "  for word in tokens:\n",
        "    try:\n",
        "      if data == 'train':\n",
        "        ft_embeddings.append(model.get_word_vector(word))\n",
        "        train_tokens.append(word)\n",
        "      else:\n",
        "        ft_embeddings.append(model.get_word_vector(word))\n",
        "        test_tokens.append(word)\n",
        "    except:\n",
        "      #print(word, 'does not exist in the model.')\n",
        "      OOV_tokens.append(word) #if found any -> go back to pre-processing the data\n",
        "      continue\n",
        "  if len(ft_embeddings) == 0:\n",
        "    return None\n",
        "  return sum(ft_embeddings)/len(ft_embeddings)"
      ],
      "metadata": {
        "id": "cxkTkdyKgzyr"
      },
      "execution_count": null,
      "outputs": []
    },
    {
      "cell_type": "code",
      "source": [
        "X_train_ft_embeddings = X_train['processed_text'].apply(lambda sent: get_doc1_vec(sent, ft, None, 'train'))\n",
        "X_test_ft_embeddings = X_test['processed_text'].apply(lambda sent: get_doc1_vec(sent, ft, None, 'test'))"
      ],
      "metadata": {
        "id": "M48BznUDNsqF"
      },
      "execution_count": null,
      "outputs": []
    },
    {
      "cell_type": "code",
      "source": [
        "X_train_ft_embeddings_list = []\n",
        "for embedding in X_train_ft_embeddings:\n",
        "    if embedding is not None:\n",
        "        X_train_ft_embeddings_list.append(embedding)\n",
        "    else:\n",
        "        # Handle cases where the embedding is None\n",
        "        X_train_ft_embeddings_list.append(np.zeros_like(X_train_ft_embeddings[0]))\n",
        "\n",
        "X_test_ft_embeddings_list = []\n",
        "for embedding in X_test_ft_embeddings:\n",
        "    if embedding is not None:\n",
        "        X_test_ft_embeddings_list.append(embedding)\n",
        "    else:\n",
        "        # Handle cases where the embedding is None\n",
        "        X_test_ft_embeddings_list.append(np.zeros_like(X_test_ft_embeddings[0]))\n"
      ],
      "metadata": {
        "id": "q79xuCo6QdRj"
      },
      "execution_count": null,
      "outputs": []
    },
    {
      "cell_type": "markdown",
      "source": [
        "# **Models**"
      ],
      "metadata": {
        "id": "BsNsZ8dQg5q5"
      }
    },
    {
      "cell_type": "markdown",
      "source": [
        "# **Traditional Models**"
      ],
      "metadata": {
        "id": "k7hbzIGhZQoh"
      }
    },
    {
      "cell_type": "markdown",
      "source": [
        "## **Naive Bayes**"
      ],
      "metadata": {
        "id": "Gor3-2Eig9zP"
      }
    },
    {
      "cell_type": "code",
      "source": [
        "from sklearn.naive_bayes import MultinomialNB, GaussianNB"
      ],
      "metadata": {
        "id": "VJG9ycs7isld"
      },
      "execution_count": null,
      "outputs": []
    },
    {
      "cell_type": "code",
      "source": [
        "from sklearn.metrics import accuracy_score, f1_score, classification_report"
      ],
      "metadata": {
        "id": "G7LsoVSblvMg"
      },
      "execution_count": null,
      "outputs": []
    },
    {
      "cell_type": "code",
      "source": [
        "naive_bayes_classifier = GaussianNB()\n",
        "naive_bayes_classifier.fit(X_train_ft_embeddings_list, y_train)\n",
        "\n",
        "y_pred = naive_bayes_classifier.predict(X_test_ft_embeddings_list)\n",
        "\n",
        "accuracy_NB = accuracy_score(y_test, y_pred)\n",
        "f1_NB = f1_score(y_test, y_pred,average='macro')\n",
        "print('accuracy',accuracy_NB)\n",
        "print('f1 score',f1_NB)\n",
        "\n",
        "print(\"Classification Report:\")\n",
        "print(classification_report(y_test, y_pred))"
      ],
      "metadata": {
        "id": "XOOuI1S7mJjR",
        "colab": {
          "base_uri": "https://localhost:8080/"
        },
        "outputId": "0306229d-ce97-48c4-efaf-288f9f191dae"
      },
      "execution_count": null,
      "outputs": [
        {
          "output_type": "stream",
          "name": "stdout",
          "text": [
            "accuracy 0.804\n",
            "f1 score 0.6478578734765347\n",
            "Classification Report:\n",
            "              precision    recall  f1-score   support\n",
            "\n",
            "    economic       0.67      0.63      0.65       134\n",
            "    politics       0.87      0.87      0.87       488\n",
            "       sport       0.77      0.76      0.76       120\n",
            "        tech       0.22      0.50      0.31         8\n",
            "\n",
            "    accuracy                           0.80       750\n",
            "   macro avg       0.63      0.69      0.65       750\n",
            "weighted avg       0.81      0.80      0.81       750\n",
            "\n"
          ]
        }
      ]
    },
    {
      "cell_type": "markdown",
      "source": [
        "## **Decision Tree**"
      ],
      "metadata": {
        "id": "JbPzX-kOUyo4"
      }
    },
    {
      "cell_type": "code",
      "source": [
        "from sklearn.tree import DecisionTreeClassifier"
      ],
      "metadata": {
        "id": "bZW6v8ANVHQ8"
      },
      "execution_count": null,
      "outputs": []
    },
    {
      "cell_type": "code",
      "source": [
        "from sklearn.metrics import accuracy_score, f1_score, classification_report"
      ],
      "metadata": {
        "id": "07-De86-VHQ8"
      },
      "execution_count": null,
      "outputs": []
    },
    {
      "cell_type": "code",
      "source": [
        "Decision_Tree_classifier = DecisionTreeClassifier()\n",
        "Decision_Tree_classifier.fit(X_train_ft_embeddings_list, y_train)\n",
        "\n",
        "y_pred = Decision_Tree_classifier.predict(X_test_ft_embeddings_list)\n",
        "\n",
        "accuracy_DT = accuracy_score(y_test, y_pred)\n",
        "f1_DT = f1_score(y_test, y_pred,average='macro')\n",
        "print('accuracy',accuracy_DT)\n",
        "print('f1 score',f1_DT)\n",
        "\n",
        "print(\"Classification Report:\")\n",
        "print(classification_report(y_test, y_pred))"
      ],
      "metadata": {
        "id": "5YNWj9YLVHQ9",
        "colab": {
          "base_uri": "https://localhost:8080/"
        },
        "outputId": "69579428-79da-4d45-fc07-5f7f77f5e2ca"
      },
      "execution_count": null,
      "outputs": [
        {
          "output_type": "stream",
          "name": "stdout",
          "text": [
            "accuracy 0.632\n",
            "f1 score 0.4360275774806836\n",
            "Classification Report:\n",
            "              precision    recall  f1-score   support\n",
            "\n",
            "    economic       0.41      0.37      0.39       134\n",
            "    politics       0.77      0.75      0.76       488\n",
            "       sport       0.44      0.48      0.46       120\n",
            "        tech       0.10      0.25      0.14         8\n",
            "\n",
            "    accuracy                           0.63       750\n",
            "   macro avg       0.43      0.46      0.44       750\n",
            "weighted avg       0.64      0.63      0.64       750\n",
            "\n"
          ]
        }
      ]
    },
    {
      "cell_type": "markdown",
      "source": [
        "# **Neural Language Models**"
      ],
      "metadata": {
        "id": "iFSRfDrlkYPJ"
      }
    },
    {
      "cell_type": "code",
      "source": [
        "import numpy as np\n",
        "from keras.models import Sequential\n",
        "from keras.layers import Dense\n",
        "from keras.preprocessing.sequence import pad_sequences\n",
        "from tensorflow.keras.utils import to_categorical\n",
        "from sklearn.metrics import classification_report\n",
        "from sklearn.metrics import accuracy_score"
      ],
      "metadata": {
        "id": "BCYRtJLMCDKI"
      },
      "execution_count": null,
      "outputs": []
    },
    {
      "cell_type": "markdown",
      "source": [
        "## **RNN (Recurrent Neural Networks)**"
      ],
      "metadata": {
        "id": "JBLWYLiRkdHT"
      }
    },
    {
      "cell_type": "code",
      "source": [
        "from keras.layers import SimpleRNN"
      ],
      "metadata": {
        "id": "xWGrZHcNH8e3"
      },
      "execution_count": null,
      "outputs": []
    },
    {
      "cell_type": "code",
      "source": [
        "# Convert lists to NumPy arrays\n",
        "X_train_ft_embeddings_array = np.array(X_train_ft_embeddings_list)\n",
        "X_test_ft_embeddings_array = np.array(X_test_ft_embeddings_list)\n",
        "\n",
        "label_mapping = {'economic': 0, 'politics': 1, 'sport': 2, 'tech': 3}\n",
        "\n",
        "num_class = len(set(y_train))\n",
        "\n",
        "# Encode the categorical labels into numerical format using the mapping\n",
        "y_train_encoded_manual = np.array([label_mapping[label] for label in y_train])\n",
        "y_test_encoded_manual = np.array([label_mapping[label] for label in y_test])\n",
        "\n",
        "# Convert labels to one-hot encoding\n",
        "y_train_one_hot = to_categorical(y_train_encoded_manual, num_classes=num_class)\n",
        "y_test_one_hot = to_categorical(y_test_encoded_manual, num_classes=num_class)\n",
        "\n",
        "# Reshape the input data to add a timestep dimension\n",
        "X_train_reshaped = X_train_ft_embeddings_array.reshape(-1, 1, X_train_ft_embeddings_array.shape[1])\n",
        "X_test_reshaped = X_test_ft_embeddings_array.reshape(-1, 1, X_test_ft_embeddings_array.shape[1])\n",
        "\n",
        "model = Sequential()\n",
        "\n",
        "# Add SimpleRNN layer\n",
        "model.add(SimpleRNN(units=64, input_shape=(1, X_train_ft_embeddings_array.shape[1])))\n",
        "\n",
        "# Add output layer\n",
        "model.add(Dense(units=num_class, activation='softmax'))\n",
        "\n",
        "# Compile the model with categorical_crossentropy for one-hot encoded labels\n",
        "model.compile(optimizer='adam', loss='categorical_crossentropy', metrics=['accuracy'])\n",
        "\n",
        "# Train the model using the one-hot encoded labels\n",
        "model.fit(X_train_reshaped, y_train_one_hot, epochs=10, batch_size=32)\n",
        "\n",
        "# Predict probabilities for the test set\n",
        "y_pred_probabilities = model.predict(X_test_reshaped)\n",
        "\n",
        "# Convert probabilities to class labels\n",
        "y_pred_encoded_manual = np.argmax(y_pred_probabilities, axis=1)\n",
        "\n",
        "\n",
        "print(\"Classification Report:\")\n",
        "print(classification_report(y_test_one_hot.argmax(axis=1), y_pred_encoded_manual))\n",
        "\n",
        "accuracy_RNN = accuracy_score(y_test_one_hot.argmax(axis=1), y_pred_encoded_manual)\n",
        "f1_RNN = f1_score(y_test_one_hot.argmax(axis=1), y_pred_encoded_manual,average='macro')\n",
        "print('accuracy',accuracy_RNN)\n",
        "print('f1 score',f1_RNN)\n"
      ],
      "metadata": {
        "colab": {
          "base_uri": "https://localhost:8080/"
        },
        "id": "7ZBJPWcegtDQ",
        "outputId": "3da6a0f2-3017-4e8b-de3c-4d0132cfa3ac"
      },
      "execution_count": null,
      "outputs": [
        {
          "output_type": "stream",
          "name": "stdout",
          "text": [
            "Epoch 1/10\n",
            "133/133 [==============================] - 2s 3ms/step - loss: 0.9003 - accuracy: 0.6384\n",
            "Epoch 2/10\n",
            "133/133 [==============================] - 0s 2ms/step - loss: 0.6206 - accuracy: 0.7824\n",
            "Epoch 3/10\n",
            "133/133 [==============================] - 0s 2ms/step - loss: 0.4972 - accuracy: 0.8339\n",
            "Epoch 4/10\n",
            "133/133 [==============================] - 0s 2ms/step - loss: 0.4408 - accuracy: 0.8515\n",
            "Epoch 5/10\n",
            "133/133 [==============================] - 0s 2ms/step - loss: 0.4011 - accuracy: 0.8621\n",
            "Epoch 6/10\n",
            "133/133 [==============================] - 0s 2ms/step - loss: 0.3767 - accuracy: 0.8701\n",
            "Epoch 7/10\n",
            "133/133 [==============================] - 0s 2ms/step - loss: 0.3581 - accuracy: 0.8725\n",
            "Epoch 8/10\n",
            "133/133 [==============================] - 0s 2ms/step - loss: 0.3426 - accuracy: 0.8791\n",
            "Epoch 9/10\n",
            "133/133 [==============================] - 0s 2ms/step - loss: 0.3309 - accuracy: 0.8845\n",
            "Epoch 10/10\n",
            "133/133 [==============================] - 0s 2ms/step - loss: 0.3221 - accuracy: 0.8875\n",
            "24/24 [==============================] - 0s 2ms/step\n",
            "Classification Report:\n",
            "              precision    recall  f1-score   support\n",
            "\n",
            "           0       0.82      0.69      0.75       134\n",
            "           1       0.88      0.94      0.91       488\n",
            "           2       0.89      0.85      0.87       120\n",
            "           3       0.33      0.12      0.18         8\n",
            "\n",
            "    accuracy                           0.87       750\n",
            "   macro avg       0.73      0.65      0.68       750\n",
            "weighted avg       0.87      0.87      0.87       750\n",
            "\n",
            "accuracy 0.8733333333333333\n",
            "f1 score 0.6783435971475325\n"
          ]
        }
      ]
    },
    {
      "cell_type": "markdown",
      "source": [
        "## **LSTM (Long Short Term Memory)**"
      ],
      "metadata": {
        "id": "QORY3jJ2q0rs"
      }
    },
    {
      "cell_type": "code",
      "source": [
        "from keras.layers import LSTM"
      ],
      "metadata": {
        "id": "SeNFbMqkjtCQ"
      },
      "execution_count": null,
      "outputs": []
    },
    {
      "cell_type": "code",
      "source": [
        "# Convert lists to NumPy arrays\n",
        "X_train_ft_embeddings_array = np.array(X_train_ft_embeddings_list)\n",
        "X_test_ft_embeddings_array = np.array(X_test_ft_embeddings_list)\n",
        "\n",
        "label_mapping = {'economic': 0, 'politics': 1, 'sport': 2, 'tech': 3}\n",
        "\n",
        "num_class = len(set(y_train))\n",
        "\n",
        "# Encode the categorical labels into numerical format using the mapping\n",
        "y_train_encoded_manual = np.array([label_mapping[label] for label in y_train])\n",
        "y_test_encoded_manual = np.array([label_mapping[label] for label in y_test])\n",
        "\n",
        "# Convert labels to one-hot encoding\n",
        "y_train_one_hot = to_categorical(y_train_encoded_manual, num_classes=num_class)\n",
        "y_test_one_hot = to_categorical(y_test_encoded_manual, num_classes=num_class)\n",
        "\n",
        "# Reshape the input data to add a timestep dimension\n",
        "X_train_reshaped = X_train_ft_embeddings_array.reshape(-1, 1, X_train_ft_embeddings_array.shape[1])\n",
        "X_test_reshaped = X_test_ft_embeddings_array.reshape(-1, 1, X_test_ft_embeddings_array.shape[1])\n",
        "\n",
        "model = Sequential()\n",
        "\n",
        "# Add LSTM layer\n",
        "model.add(LSTM(units=64, input_shape=(1, X_train_ft_embeddings_array.shape[1])))\n",
        "\n",
        "# Add output layer\n",
        "model.add(Dense(units=num_class, activation='softmax'))\n",
        "\n",
        "# Compile the model with categorical_crossentropy for one-hot encoded labels\n",
        "model.compile(optimizer='adam', loss='categorical_crossentropy', metrics=['accuracy'])\n",
        "\n",
        "# Train the model using the one-hot encoded labels\n",
        "model.fit(X_train_reshaped, y_train_one_hot, epochs=10, batch_size=32)\n",
        "\n",
        "# Predict probabilities for the test set\n",
        "y_pred_probabilities = model.predict(X_test_reshaped)\n",
        "\n",
        "# Convert probabilities to class labels\n",
        "y_pred_encoded_manual = np.argmax(y_pred_probabilities, axis=1)\n",
        "\n",
        "print(\"Classification Report:\")\n",
        "print(classification_report(y_test_one_hot.argmax(axis=1), y_pred_encoded_manual))\n",
        "\n",
        "accuracy_LSTM = accuracy_score(y_test_one_hot.argmax(axis=1), y_pred_encoded_manual)\n",
        "f1_LSTM = f1_score(y_test_one_hot.argmax(axis=1), y_pred_encoded_manual,average='macro')\n",
        "print('accuracy',accuracy_LSTM)\n",
        "print('f1 score',f1_LSTM)\n"
      ],
      "metadata": {
        "colab": {
          "base_uri": "https://localhost:8080/"
        },
        "id": "QGFvwpH3C2a1",
        "outputId": "cd9a1398-bcaf-468b-a032-4181976f8a0b"
      },
      "execution_count": null,
      "outputs": [
        {
          "output_type": "stream",
          "name": "stdout",
          "text": [
            "Epoch 1/10\n",
            "133/133 [==============================] - 2s 4ms/step - loss: 1.0185 - accuracy: 0.6068\n",
            "Epoch 2/10\n",
            "133/133 [==============================] - 0s 3ms/step - loss: 0.7021 - accuracy: 0.7414\n",
            "Epoch 3/10\n",
            "133/133 [==============================] - 0s 3ms/step - loss: 0.5324 - accuracy: 0.8256\n",
            "Epoch 4/10\n",
            "133/133 [==============================] - 0s 4ms/step - loss: 0.4593 - accuracy: 0.8468\n",
            "Epoch 5/10\n",
            "133/133 [==============================] - 0s 4ms/step - loss: 0.4187 - accuracy: 0.8560\n",
            "Epoch 6/10\n",
            "133/133 [==============================] - 0s 3ms/step - loss: 0.3933 - accuracy: 0.8656\n",
            "Epoch 7/10\n",
            "133/133 [==============================] - 0s 4ms/step - loss: 0.3719 - accuracy: 0.8718\n",
            "Epoch 8/10\n",
            "133/133 [==============================] - 0s 3ms/step - loss: 0.3552 - accuracy: 0.8727\n",
            "Epoch 9/10\n",
            "133/133 [==============================] - 0s 3ms/step - loss: 0.3405 - accuracy: 0.8791\n",
            "Epoch 10/10\n",
            "133/133 [==============================] - 1s 4ms/step - loss: 0.3290 - accuracy: 0.8847\n",
            "24/24 [==============================] - 1s 3ms/step\n",
            "Classification Report:\n",
            "              precision    recall  f1-score   support\n",
            "\n",
            "           0       0.80      0.70      0.75       134\n",
            "           1       0.88      0.94      0.91       488\n",
            "           2       0.90      0.83      0.87       120\n",
            "           3       0.00      0.00      0.00         8\n",
            "\n",
            "    accuracy                           0.87       750\n",
            "   macro avg       0.65      0.62      0.63       750\n",
            "weighted avg       0.86      0.87      0.87       750\n",
            "\n",
            "accuracy 0.872\n",
            "f1 score 0.6314239847433805\n"
          ]
        },
        {
          "output_type": "stream",
          "name": "stderr",
          "text": [
            "/usr/local/lib/python3.10/dist-packages/sklearn/metrics/_classification.py:1344: UndefinedMetricWarning: Precision and F-score are ill-defined and being set to 0.0 in labels with no predicted samples. Use `zero_division` parameter to control this behavior.\n",
            "  _warn_prf(average, modifier, msg_start, len(result))\n",
            "/usr/local/lib/python3.10/dist-packages/sklearn/metrics/_classification.py:1344: UndefinedMetricWarning: Precision and F-score are ill-defined and being set to 0.0 in labels with no predicted samples. Use `zero_division` parameter to control this behavior.\n",
            "  _warn_prf(average, modifier, msg_start, len(result))\n",
            "/usr/local/lib/python3.10/dist-packages/sklearn/metrics/_classification.py:1344: UndefinedMetricWarning: Precision and F-score are ill-defined and being set to 0.0 in labels with no predicted samples. Use `zero_division` parameter to control this behavior.\n",
            "  _warn_prf(average, modifier, msg_start, len(result))\n"
          ]
        }
      ]
    },
    {
      "cell_type": "markdown",
      "source": [
        "## **GRU (Gate Recurrent Unit)**"
      ],
      "metadata": {
        "id": "IRbvQgnCkhvR"
      }
    },
    {
      "cell_type": "code",
      "source": [
        "from keras.layers import GRU"
      ],
      "metadata": {
        "id": "8PSCfIvoHnXh"
      },
      "execution_count": null,
      "outputs": []
    },
    {
      "cell_type": "code",
      "source": [
        "# Convert lists to NumPy arrays\n",
        "X_train_ft_embeddings_array = np.array(X_train_ft_embeddings_list)\n",
        "X_test_ft_embeddings_array = np.array(X_test_ft_embeddings_list)\n",
        "\n",
        "label_mapping = {'economic': 0, 'politics': 1, 'sport': 2, 'tech': 3}\n",
        "\n",
        "num_class = len(set(y_train))\n",
        "\n",
        "# Encode the categorical labels into numerical format using the mapping\n",
        "y_train_encoded_manual = np.array([label_mapping[label] for label in y_train])\n",
        "y_test_encoded_manual = np.array([label_mapping[label] for label in y_test])\n",
        "\n",
        "# Convert labels to one-hot encoding\n",
        "y_train_one_hot = to_categorical(y_train_encoded_manual, num_classes=num_class)\n",
        "y_test_one_hot = to_categorical(y_test_encoded_manual, num_classes=num_class)\n",
        "\n",
        "# Reshape the input data to add a timestep dimension\n",
        "X_train_reshaped = X_train_ft_embeddings_array.reshape(-1, 1, X_train_ft_embeddings_array.shape[1])\n",
        "X_test_reshaped = X_test_ft_embeddings_array.reshape(-1, 1, X_test_ft_embeddings_array.shape[1])\n",
        "\n",
        "model = Sequential()\n",
        "\n",
        "# Add GRU layer\n",
        "model.add(GRU(units=64, input_shape=(1, X_train_ft_embeddings_array.shape[1])))\n",
        "\n",
        "# Add output layer\n",
        "model.add(Dense(units=num_class, activation='softmax'))\n",
        "\n",
        "# Compile the model with categorical_crossentropy for one-hot encoded labels\n",
        "model.compile(optimizer='adam', loss='categorical_crossentropy', metrics=['accuracy'])\n",
        "\n",
        "# Train the model using the one-hot encoded labels\n",
        "model.fit(X_train_reshaped, y_train_one_hot, epochs=10, batch_size=32)\n",
        "\n",
        "# Predict probabilities for the test set\n",
        "y_pred_probabilities = model.predict(X_test_reshaped)\n",
        "\n",
        "# Convert probabilities to class labels\n",
        "y_pred_encoded_manual = np.argmax(y_pred_probabilities, axis=1)\n",
        "\n",
        "print(\"Classification Report:\")\n",
        "print(classification_report(y_test_one_hot.argmax(axis=1), y_pred_encoded_manual))\n",
        "\n",
        "accuracy_GRU = accuracy_score(y_test_one_hot.argmax(axis=1), y_pred_encoded_manual)\n",
        "f1_GRU= f1_score(y_test_one_hot.argmax(axis=1), y_pred_encoded_manual,average='macro')\n",
        "print('accuracy',accuracy_GRU)\n",
        "print('f1 score',f1_GRU)\n",
        "\n"
      ],
      "metadata": {
        "colab": {
          "base_uri": "https://localhost:8080/"
        },
        "id": "g2eJCWnqHNy6",
        "outputId": "beff6445-10b9-4bc1-cb64-24e475d6858a"
      },
      "execution_count": null,
      "outputs": [
        {
          "output_type": "stream",
          "name": "stdout",
          "text": [
            "Epoch 1/10\n",
            "133/133 [==============================] - 3s 4ms/step - loss: 0.9734 - accuracy: 0.6113\n",
            "Epoch 2/10\n",
            "133/133 [==============================] - 1s 4ms/step - loss: 0.6681 - accuracy: 0.7584\n",
            "Epoch 3/10\n",
            "133/133 [==============================] - 0s 3ms/step - loss: 0.5113 - accuracy: 0.8261\n",
            "Epoch 4/10\n",
            "133/133 [==============================] - 0s 3ms/step - loss: 0.4459 - accuracy: 0.8546\n",
            "Epoch 5/10\n",
            "133/133 [==============================] - 0s 3ms/step - loss: 0.4101 - accuracy: 0.8626\n",
            "Epoch 6/10\n",
            "133/133 [==============================] - 0s 3ms/step - loss: 0.3848 - accuracy: 0.8666\n",
            "Epoch 7/10\n",
            "133/133 [==============================] - 0s 3ms/step - loss: 0.3622 - accuracy: 0.8734\n",
            "Epoch 8/10\n",
            "133/133 [==============================] - 0s 3ms/step - loss: 0.3509 - accuracy: 0.8776\n",
            "Epoch 9/10\n",
            "133/133 [==============================] - 0s 3ms/step - loss: 0.3343 - accuracy: 0.8826\n",
            "Epoch 10/10\n",
            "133/133 [==============================] - 0s 3ms/step - loss: 0.3221 - accuracy: 0.8873\n",
            "24/24 [==============================] - 0s 2ms/step\n",
            "Classification Report:\n",
            "              precision    recall  f1-score   support\n",
            "\n",
            "           0       0.81      0.69      0.75       134\n",
            "           1       0.88      0.94      0.91       488\n",
            "           2       0.88      0.86      0.87       120\n",
            "           3       0.00      0.00      0.00         8\n",
            "\n",
            "    accuracy                           0.87       750\n",
            "   macro avg       0.64      0.62      0.63       750\n",
            "weighted avg       0.86      0.87      0.86       750\n",
            "\n",
            "accuracy 0.872\n",
            "f1 score 0.6316807608418928\n"
          ]
        },
        {
          "output_type": "stream",
          "name": "stderr",
          "text": [
            "/usr/local/lib/python3.10/dist-packages/sklearn/metrics/_classification.py:1344: UndefinedMetricWarning: Precision and F-score are ill-defined and being set to 0.0 in labels with no predicted samples. Use `zero_division` parameter to control this behavior.\n",
            "  _warn_prf(average, modifier, msg_start, len(result))\n",
            "/usr/local/lib/python3.10/dist-packages/sklearn/metrics/_classification.py:1344: UndefinedMetricWarning: Precision and F-score are ill-defined and being set to 0.0 in labels with no predicted samples. Use `zero_division` parameter to control this behavior.\n",
            "  _warn_prf(average, modifier, msg_start, len(result))\n",
            "/usr/local/lib/python3.10/dist-packages/sklearn/metrics/_classification.py:1344: UndefinedMetricWarning: Precision and F-score are ill-defined and being set to 0.0 in labels with no predicted samples. Use `zero_division` parameter to control this behavior.\n",
            "  _warn_prf(average, modifier, msg_start, len(result))\n"
          ]
        }
      ]
    },
    {
      "cell_type": "markdown",
      "metadata": {
        "id": "YhqfiRZR5rzI"
      },
      "source": [
        "# **Plot**"
      ]
    },
    {
      "cell_type": "code",
      "source": [
        "import matplotlib.pyplot as plt\n",
        "models = ['Naive Bayes', 'Decision Tree', 'RNN', 'LSTM', 'GRU']\n",
        "accuracies = [accuracy_NB, accuracy_DT, accuracy_RNN, accuracy_LSTM, accuracy_GRU]\n",
        "f1_scores = [f1_NB, f1_DT, f1_RNN, f1_LSTM, f1_GRU]\n",
        "\n",
        "x = np.arange(len(models))\n",
        "width = 0.35\n",
        "\n",
        "fig, ax = plt.subplots()\n",
        "rects1 = ax.bar(x - width/2, accuracies, width, label='Accuracy',color='lightblue')\n",
        "rects2 = ax.bar(x + width/2, f1_scores, width, label='F1 Score',color='pink')\n",
        "\n",
        "ax.set_ylabel('Scores')\n",
        "ax.set_title('Accuracy and F1 Score by Model using FastText embeddings')\n",
        "ax.set_xticks(x)\n",
        "ax.set_xticklabels(models)\n",
        "ax.legend()\n",
        "\n",
        "ax.set_ylim(0,1)\n",
        "fig.tight_layout()\n",
        "plt.show()"
      ],
      "metadata": {
        "colab": {
          "base_uri": "https://localhost:8080/",
          "height": 487
        },
        "id": "XICP1ZeR5iIN",
        "outputId": "c53bc421-42da-47d8-b57b-6aa1ecdc63e8"
      },
      "execution_count": null,
      "outputs": [
        {
          "output_type": "display_data",
          "data": {
            "text/plain": [
              "<Figure size 640x480 with 1 Axes>"
            ],
            "image/png": "[encoded data removed]"
          },
          "metadata": {}
        }
      ]
    }
  ]
}