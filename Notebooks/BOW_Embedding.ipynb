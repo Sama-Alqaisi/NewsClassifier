{
  "nbformat": 4,
  "nbformat_minor": 0,
  "metadata": {
    "colab": {
      "provenance": [],
      "collapsed_sections": [
        "BWHcyi_wKHKF",
        "bTlxp4p5KMj9",
        "1y6YLML_KPxo",
        "XKgsDnNcKWXC",
        "KU8NxMJbubLa",
        "XFhLg3LSU62P",
        "k7hbzIGhZQoh",
        "Gor3-2Eig9zP",
        "JbPzX-kOUyo4",
        "6GfsenpXhbHt",
        "3s-UlgLigOda",
        "QORY3jJ2q0rs",
        "Al2hwvvpgPHn",
        "YhqfiRZR5rzI"
      ]
    },
    "kernelspec": {
      "name": "python3",
      "display_name": "Python 3"
    },
    "language_info": {
      "name": "python"
    }
  },
  "cells": [
    {
      "cell_type": "code",
      "source": [
        "from google.colab import drive\n",
        "drive.mount('/content/drive')"
      ],
      "metadata": {
        "colab": {
          "base_uri": "https://localhost:8080/"
        },
        "id": "HEwKgHcnQG1E",
        "outputId": "f3f2e3fa-f4c7-4285-8f81-06f98c236acb"
      },
      "execution_count": null,
      "outputs": [
        {
          "output_type": "stream",
          "name": "stdout",
          "text": [
            "Drive already mounted at /content/drive; to attempt to forcibly remount, call drive.mount(\"/content/drive\", force_remount=True).\n"
          ]
        }
      ]
    },
    {
      "cell_type": "markdown",
      "metadata": {
        "id": "BWHcyi_wKHKF"
      },
      "source": [
        "# **Read Data**"
      ]
    },
    {
      "cell_type": "code",
      "source": [
        "import pandas as pd"
      ],
      "metadata": {
        "id": "Ddi51CWox8CK"
      },
      "execution_count": null,
      "outputs": []
    },
    {
      "cell_type": "code",
      "execution_count": null,
      "metadata": {
        "id": "jpZCgTzMAiw8"
      },
      "outputs": [],
      "source": [
        "news_train=pd.read_excel('/content/drive/MyDrive/News_train.xlsx')"
      ]
    },
    {
      "cell_type": "code",
      "source": [
        "news_train.shape"
      ],
      "metadata": {
        "id": "qSchvg9YQ-QE",
        "colab": {
          "base_uri": "https://localhost:8080/"
        },
        "outputId": "69bf5f36-2dc2-4aa1-9b11-5e7b90b6cf84"
      },
      "execution_count": null,
      "outputs": [
        {
          "output_type": "execute_result",
          "data": {
            "text/plain": [
              "(5000, 2)"
            ]
          },
          "metadata": {},
          "execution_count": 43
        }
      ]
    },
    {
      "cell_type": "markdown",
      "metadata": {
        "id": "bTlxp4p5KMj9"
      },
      "source": [
        "# **Preprocessing**"
      ]
    },
    {
      "cell_type": "markdown",
      "metadata": {
        "id": "1y6YLML_KPxo"
      },
      "source": [
        "### **re**"
      ]
    },
    {
      "cell_type": "code",
      "source": [
        "!pip install pyarabic"
      ],
      "metadata": {
        "id": "yG4FLKz8FT8C",
        "colab": {
          "base_uri": "https://localhost:8080/"
        },
        "outputId": "6dde4c1b-34d7-443d-d1ca-6df544ad9009"
      },
      "execution_count": null,
      "outputs": [
        {
          "output_type": "stream",
          "name": "stdout",
          "text": [
            "Requirement already satisfied: pyarabic in /usr/local/lib/python3.10/dist-packages (0.6.15)\n",
            "Requirement already satisfied: six>=1.14.0 in /usr/local/lib/python3.10/dist-packages (from pyarabic) (1.16.0)\n"
          ]
        }
      ]
    },
    {
      "cell_type": "code",
      "source": [
        "import pyarabic"
      ],
      "metadata": {
        "id": "nOeGYNbeFXkk"
      },
      "execution_count": null,
      "outputs": []
    },
    {
      "cell_type": "code",
      "execution_count": null,
      "metadata": {
        "id": "llK2Eci2AyS1"
      },
      "outputs": [],
      "source": [
        "import re\n",
        "import unicodedata\n",
        "from pyarabic.araby import tokenize\n",
        "\n",
        "def normalize_arabic(text):\n",
        "    # Normalize Arabic text\n",
        "    text = ''.join(c for c in unicodedata.normalize('NFD', text) if unicodedata.category(c) != 'Mn') # remove diacritics\n",
        "    text = re.sub(\"[إأٱآا]\", \"ا\", text)\n",
        "    text = re.sub(\"ى\", \"ي\", text)\n",
        "    text = re.sub(\"ؤ\", \"ء\", text)\n",
        "    text = re.sub(\"ئ\", \"ء\", text)\n",
        "    text = re.sub(\"ة\", \"ه\", text)\n",
        "    text = re.sub('/', ' ', text)\n",
        "    text = re.sub('-', ' ', text)\n",
        "    text = re.sub('_', ' ', text)\n",
        "    text = re.sub(' و ', ' ', text)\n",
        "    text = re.sub(\"'\", ' ', text)\n",
        "    text = re.sub(\"``\", ' ', text)\n",
        "    text = re.sub('\"', ' ', text)\n",
        "    text = re.sub('%', ' ', text)\n",
        "    text = re.sub('»', ' ', text)\n",
        "    text = re.sub('«', ' ', text)\n",
        "    text = re.sub(r'\\bال(\\w+)\\b', r'\\1', text)\n",
        "    text = re.sub(r'\\bلل(\\w+)\\b', r'\\1', text)\n",
        "    text = re.sub(r'\\bبال(\\w+)\\b', r'\\1', text)\n",
        "    text = re.sub(r'[A-Za-z0-9]', r'', text)#remove english characters\n",
        "    text = re.sub(r'[0-9]', r'', text)#remove numbers\n",
        "    text = re.sub(r'[^\\w\\s]', r'', text)#remove punctuation\n",
        "\n",
        "    words = tokenize(text)\n",
        "\n",
        "    normalized_text = ' '.join(words)\n",
        "\n",
        "    return normalized_text"
      ]
    },
    {
      "cell_type": "code",
      "execution_count": null,
      "metadata": {
        "id": "zHJtqAx-C65d"
      },
      "outputs": [],
      "source": [
        "news_train['News'] = news_train['News'].apply(normalize_arabic)"
      ]
    },
    {
      "cell_type": "code",
      "execution_count": null,
      "metadata": {
        "id": "vNnNttwgC62o",
        "colab": {
          "base_uri": "https://localhost:8080/"
        },
        "outputId": "2c2e5221-e1e2-49b5-97a1-355286de6408"
      },
      "outputs": [
        {
          "output_type": "execute_result",
          "data": {
            "text/plain": [
              "0       اشتباك حريري عون اتهامات لباسيل تمسك ثلث معطل ...\n",
              "1                               عون حريري اصبح غريب اطوار\n",
              "2       وزير خارجيه امريكي ندرس سحب كامل قواتنا من افغ...\n",
              "3       افغانستان استعدادات حثيثه لاجتماع تركيا وكابل ...\n",
              "4                   اندبندنت مفاوضات سريه كادت تنقذ قذافي\n",
              "                              ...                        \n",
              "4995                اوروبا تبدا احصاء خساير فيضانات مدمره\n",
              "4996    قتل متظاهر رصاص خلال احتجاجات علي شح مياه في م...\n",
              "4997    وسايل اعلام ايرانيه تتحدث عن اندلاع احتجاجات ف...\n",
              "4998           مفاوضات افغانيه تتواصل في عاصمه قطريه دوحه\n",
              "4999    تعليق مفاوضات افغانيه في دوحه موقتا لمزيد من م...\n",
              "Name: News, Length: 5000, dtype: object"
            ]
          },
          "metadata": {},
          "execution_count": 48
        }
      ],
      "source": [
        "news_train['News']"
      ]
    },
    {
      "cell_type": "code",
      "execution_count": null,
      "metadata": {
        "id": "ZiSx6tOrhv3K",
        "colab": {
          "base_uri": "https://localhost:8080/"
        },
        "outputId": "0de555fb-444a-479c-ca5c-09284afacc0a"
      },
      "outputs": [
        {
          "output_type": "execute_result",
          "data": {
            "text/plain": [
              "(5000, 2)"
            ]
          },
          "metadata": {},
          "execution_count": 49
        }
      ],
      "source": [
        "news_train.shape"
      ]
    },
    {
      "cell_type": "markdown",
      "metadata": {
        "id": "XKgsDnNcKWXC"
      },
      "source": [
        "### **nltk**"
      ]
    },
    {
      "cell_type": "code",
      "source": [
        "import nltk\n",
        "nltk.download('stopwords')\n",
        "\n",
        "from nltk.corpus import stopwords"
      ],
      "metadata": {
        "id": "Kztx2gmGEmTQ",
        "colab": {
          "base_uri": "https://localhost:8080/"
        },
        "outputId": "fa6421f2-0785-44a6-94db-659a1aaf6782"
      },
      "execution_count": null,
      "outputs": [
        {
          "output_type": "stream",
          "name": "stderr",
          "text": [
            "[nltk_data] Downloading package stopwords to /root/nltk_data...\n",
            "[nltk_data]   Package stopwords is already up-to-date!\n"
          ]
        }
      ]
    },
    {
      "cell_type": "code",
      "execution_count": null,
      "metadata": {
        "id": "-HG-0qBlFixO"
      },
      "outputs": [],
      "source": [
        "import re\n",
        "from pyarabic.araby import tokenize\n",
        "from nltk.corpus import stopwords\n",
        "from nltk.stem import ISRIStemmer\n",
        "\n",
        "stemmer = ISRIStemmer()\n",
        "\n",
        "def preprocess_text(text):\n",
        "    # Tokenization for Arabic text using PyArabic's tokenize function\n",
        "    tokens = tokenize(text)\n",
        "\n",
        "    # Get Arabic stop words from NLTK\n",
        "    stop_words_arabic = set(stopwords.words('arabic'))\n",
        "\n",
        "    # Remove stop words\n",
        "    arabic_tokens = [token for token in tokens if token not in stop_words_arabic]\n",
        "\n",
        "    # Stemming Arabic text\n",
        "    arabic_tokens = [stemmer.stem(token) for token in arabic_tokens]\n",
        "\n",
        "    # Join tokens back into text\n",
        "    processed_text = ' '.join(arabic_tokens)\n",
        "\n",
        "    return processed_text"
      ]
    },
    {
      "cell_type": "code",
      "execution_count": null,
      "metadata": {
        "id": "3eIzGzoYZ9HO"
      },
      "outputs": [],
      "source": [
        "preprocessed_documents_news_train = [preprocess_text(doc) for doc in news_train['News']]"
      ]
    },
    {
      "cell_type": "code",
      "execution_count": null,
      "metadata": {
        "id": "rfRwf66caP9A",
        "colab": {
          "base_uri": "https://localhost:8080/"
        },
        "outputId": "fa259fe2-3832-4cbc-9344-a8e25879c158"
      },
      "outputs": [
        {
          "output_type": "execute_result",
          "data": {
            "text/plain": [
              "5000"
            ]
          },
          "metadata": {},
          "execution_count": 53
        }
      ],
      "source": [
        "len(preprocessed_documents_news_train)"
      ]
    },
    {
      "cell_type": "markdown",
      "metadata": {
        "id": "KU8NxMJbubLa"
      },
      "source": [
        "# **Splitting the data into training and validation**"
      ]
    },
    {
      "cell_type": "code",
      "source": [
        "news_train['processed_text'] = preprocessed_documents_news_train"
      ],
      "metadata": {
        "id": "bmuPmwOHqSfL"
      },
      "execution_count": null,
      "outputs": []
    },
    {
      "cell_type": "code",
      "source": [
        "news_train['processed_text']"
      ],
      "metadata": {
        "id": "MRtdxYItZm5K",
        "colab": {
          "base_uri": "https://localhost:8080/"
        },
        "outputId": "b5acd9fe-8358-4472-afd8-39aa3a5aa9db"
      },
      "execution_count": null,
      "outputs": [
        {
          "output_type": "execute_result",
          "data": {
            "text/plain": [
              "0                 شبك حرر عون تهم اسل تمس ثلث عطل بقء حكم\n",
              "1                                    عون حرر اصبح غرب طور\n",
              "2                     وزر خرج امر درس سحب كمل قوت غنس حلل\n",
              "3       غنس عدد حثث جمع ترك كبل تهم طلب ركز علي حرب بد...\n",
              "4                            اندبندنت فاض سره كدت نقذ قذف\n",
              "                              ...                        \n",
              "4995                             ورب تبد حصء خسير فيض دمر\n",
              "4996      قتل ظاهر رصص خلل حجج علي شح ياه طقه جنب غرب اير\n",
              "4997                          سيل علم يرن حدث دلع حجج شرع\n",
              "4998                              فاض فغن وصل عصم قطر دوح\n",
              "4999                          علق فاض فغن دوح وقت زيد شار\n",
              "Name: processed_text, Length: 5000, dtype: object"
            ]
          },
          "metadata": {},
          "execution_count": 55
        }
      ]
    },
    {
      "cell_type": "code",
      "source": [
        "news_train.columns"
      ],
      "metadata": {
        "id": "IUTqRljYZB_e",
        "colab": {
          "base_uri": "https://localhost:8080/"
        },
        "outputId": "92fa2e8d-9c20-4194-d6ce-3eaba82065e7"
      },
      "execution_count": null,
      "outputs": [
        {
          "output_type": "execute_result",
          "data": {
            "text/plain": [
              "Index(['Type', 'News', 'processed_text'], dtype='object')"
            ]
          },
          "metadata": {},
          "execution_count": 56
        }
      ]
    },
    {
      "cell_type": "code",
      "source": [
        "y=news_train['Type']\n",
        "X=news_train.drop(columns=['Type', 'News'], axis=1)"
      ],
      "metadata": {
        "id": "J7VAT3txjvER"
      },
      "execution_count": null,
      "outputs": []
    },
    {
      "cell_type": "code",
      "source": [
        "from sklearn.model_selection import train_test_split\n",
        "X_train, X_test, y_train, y_test = train_test_split(X, y, test_size=0.15, random_state=42)"
      ],
      "metadata": {
        "id": "sfwoItxEjelq"
      },
      "execution_count": null,
      "outputs": []
    },
    {
      "cell_type": "code",
      "source": [
        "len(X_train)"
      ],
      "metadata": {
        "id": "9oUkNNUOb1fL",
        "colab": {
          "base_uri": "https://localhost:8080/"
        },
        "outputId": "54d486e5-4a7e-424c-fee3-75f983f515aa"
      },
      "execution_count": null,
      "outputs": [
        {
          "output_type": "execute_result",
          "data": {
            "text/plain": [
              "4250"
            ]
          },
          "metadata": {},
          "execution_count": 59
        }
      ]
    },
    {
      "cell_type": "markdown",
      "metadata": {
        "id": "XFhLg3LSU62P"
      },
      "source": [
        "# **Word Embedding(BOW)**"
      ]
    },
    {
      "cell_type": "code",
      "source": [
        "from sklearn.feature_extraction.text import CountVectorizer\n",
        "\n",
        "vectorizer = cv_uni_vec = CountVectorizer(max_features=300,\n",
        "                                 stop_words=None,\n",
        "                                 ngram_range=(2,2))\n",
        "X_train_uni = cv_uni_vec.fit_transform(X_train['processed_text'])\n",
        "X_test_uni = cv_uni_vec.fit_transform(X_test['processed_text'])\n",
        "\n",
        "BOW_train_feature = pd.DataFrame(X_train_uni.toarray(), columns=cv_uni_vec.get_feature_names_out())\n",
        "BOW_test_feature = pd.DataFrame(X_test_uni.toarray(), columns=cv_uni_vec.get_feature_names_out())"
      ],
      "metadata": {
        "id": "e-fHbMc1a0Ck"
      },
      "execution_count": null,
      "outputs": []
    },
    {
      "cell_type": "code",
      "source": [
        "BOW_train_feature.values"
      ],
      "metadata": {
        "id": "zaId1wUOP0A_",
        "colab": {
          "base_uri": "https://localhost:8080/"
        },
        "outputId": "33a41aaf-0442-4ad6-e95d-e744199c2cc5"
      },
      "execution_count": null,
      "outputs": [
        {
          "output_type": "execute_result",
          "data": {
            "text/plain": [
              "array([[0, 0, 0, ..., 0, 0, 0],\n",
              "       [0, 0, 0, ..., 0, 0, 0],\n",
              "       [0, 0, 0, ..., 0, 0, 0],\n",
              "       ...,\n",
              "       [0, 0, 0, ..., 0, 0, 0],\n",
              "       [0, 0, 0, ..., 0, 0, 0],\n",
              "       [0, 0, 0, ..., 0, 0, 0]])"
            ]
          },
          "metadata": {},
          "execution_count": 61
        }
      ]
    },
    {
      "cell_type": "code",
      "source": [
        "#for word in BOW_train_feature.columns:\n",
        "  #embedding = BOW_train_feature[word].values\n",
        "  #print(\"Word:\", word, \", vector:\", embedding)"
      ],
      "metadata": {
        "id": "kRTe2BZEZeGZ"
      },
      "execution_count": null,
      "outputs": []
    },
    {
      "cell_type": "markdown",
      "source": [
        "# **Models**"
      ],
      "metadata": {
        "id": "BsNsZ8dQg5q5"
      }
    },
    {
      "cell_type": "markdown",
      "source": [
        "# **Traditional Models**"
      ],
      "metadata": {
        "id": "k7hbzIGhZQoh"
      }
    },
    {
      "cell_type": "markdown",
      "source": [
        "## **Naive Bayes**"
      ],
      "metadata": {
        "id": "Gor3-2Eig9zP"
      }
    },
    {
      "cell_type": "code",
      "source": [
        "from sklearn.naive_bayes import MultinomialNB, GaussianNB"
      ],
      "metadata": {
        "id": "VJG9ycs7isld"
      },
      "execution_count": null,
      "outputs": []
    },
    {
      "cell_type": "code",
      "source": [
        "from sklearn.metrics import accuracy_score, f1_score, classification_report"
      ],
      "metadata": {
        "id": "G7LsoVSblvMg"
      },
      "execution_count": null,
      "outputs": []
    },
    {
      "cell_type": "code",
      "source": [
        "naive_bayes_classifier = GaussianNB()\n",
        "naive_bayes_classifier.fit(BOW_train_feature.values, y_train)\n",
        "\n",
        "y_pred = naive_bayes_classifier.predict(BOW_test_feature.values)\n",
        "\n",
        "accuracy_NB = accuracy_score(y_test, y_pred)\n",
        "f1_NB = f1_score(y_test, y_pred,average='macro')\n",
        "print('accuracy',accuracy_NB)\n",
        "print('f1 score',f1_NB)\n",
        "\n",
        "print(\"Classification Report:\")\n",
        "print(classification_report(y_test, y_pred))"
      ],
      "metadata": {
        "id": "2PbOmedtl-s0",
        "colab": {
          "base_uri": "https://localhost:8080/"
        },
        "outputId": "71426258-62bb-43d6-e90b-287d6ab26fe1"
      },
      "execution_count": null,
      "outputs": [
        {
          "output_type": "stream",
          "name": "stdout",
          "text": [
            "accuracy 0.292\n",
            "f1 score 0.22577983487368478\n",
            "Classification Report:\n",
            "              precision    recall  f1-score   support\n",
            "\n",
            "    economic       0.18      0.13      0.15       134\n",
            "    politics       0.76      0.33      0.46       488\n",
            "       sport       0.21      0.26      0.23       120\n",
            "        tech       0.03      1.00      0.05         8\n",
            "\n",
            "    accuracy                           0.29       750\n",
            "   macro avg       0.30      0.43      0.23       750\n",
            "weighted avg       0.56      0.29      0.37       750\n",
            "\n"
          ]
        }
      ]
    },
    {
      "cell_type": "markdown",
      "source": [
        "## **Decision Tree**"
      ],
      "metadata": {
        "id": "JbPzX-kOUyo4"
      }
    },
    {
      "cell_type": "code",
      "source": [
        "from sklearn.tree import DecisionTreeClassifier"
      ],
      "metadata": {
        "id": "bZW6v8ANVHQ8"
      },
      "execution_count": null,
      "outputs": []
    },
    {
      "cell_type": "code",
      "source": [
        "from sklearn.metrics import accuracy_score, f1_score, classification_report"
      ],
      "metadata": {
        "id": "07-De86-VHQ8"
      },
      "execution_count": null,
      "outputs": []
    },
    {
      "cell_type": "code",
      "source": [
        "Decision_Tree_classifier = DecisionTreeClassifier()\n",
        "Decision_Tree_classifier.fit(BOW_train_feature.values, y_train)\n",
        "\n",
        "y_pred = Decision_Tree_classifier.predict(BOW_test_feature.values)\n",
        "\n",
        "accuracy_DT = accuracy_score(y_test, y_pred)\n",
        "f1_DT = f1_score(y_test, y_pred,average='macro')\n",
        "print('accuracy',accuracy_DT)\n",
        "print('f1 score',f1_DT)\n",
        "\n",
        "print(\"Classification Report:\")\n",
        "print(classification_report(y_test, y_pred))"
      ],
      "metadata": {
        "id": "mk7YEK1cVHQ9",
        "colab": {
          "base_uri": "https://localhost:8080/"
        },
        "outputId": "bca0795d-4800-41fa-c744-5ebb22b90444"
      },
      "execution_count": null,
      "outputs": [
        {
          "output_type": "stream",
          "name": "stdout",
          "text": [
            "accuracy 0.5053333333333333\n",
            "f1 score 0.2546334105874995\n",
            "Classification Report:\n",
            "              precision    recall  f1-score   support\n",
            "\n",
            "    economic       0.13      0.08      0.10       134\n",
            "    politics       0.63      0.69      0.66       488\n",
            "       sport       0.25      0.27      0.26       120\n",
            "        tech       0.00      0.00      0.00         8\n",
            "\n",
            "    accuracy                           0.51       750\n",
            "   macro avg       0.25      0.26      0.25       750\n",
            "weighted avg       0.47      0.51      0.49       750\n",
            "\n"
          ]
        }
      ]
    },
    {
      "cell_type": "markdown",
      "source": [
        "# **Neural Language Models**"
      ],
      "metadata": {
        "id": "6GfsenpXhbHt"
      }
    },
    {
      "cell_type": "code",
      "source": [
        "import numpy as np\n",
        "from keras.models import Sequential\n",
        "from keras.layers import Dense\n",
        "from keras.preprocessing.sequence import pad_sequences\n",
        "from tensorflow.keras.utils import to_categorical\n",
        "import matplotlib.pyplot as plt\n",
        "from sklearn.metrics import classification_report\n",
        "from sklearn.metrics import accuracy_score, f1_score, classification_report"
      ],
      "metadata": {
        "id": "lYuZBz7g_MlI"
      },
      "execution_count": null,
      "outputs": []
    },
    {
      "cell_type": "markdown",
      "source": [
        "## **RNN (Recurrent Neural Networks)**"
      ],
      "metadata": {
        "id": "3s-UlgLigOda"
      }
    },
    {
      "cell_type": "code",
      "source": [
        "from keras.layers import SimpleRNN"
      ],
      "metadata": {
        "id": "UAuKuKupgmCJ"
      },
      "execution_count": null,
      "outputs": []
    },
    {
      "cell_type": "code",
      "source": [
        "label_mapping = {'economic': 0, 'politics': 1, 'sport': 2, 'tech': 3}\n",
        "\n",
        "num_class = len(set(label_mapping.values()))\n",
        "\n",
        "# Encode the categorical labels into numerical format using the mapping\n",
        "y_train_encoded_manual = np.array([label_mapping[label] for label in y_train])\n",
        "y_test_encoded_manual = np.array([label_mapping[label] for label in y_test])\n",
        "\n",
        "# Convert labels to one-hot encoding\n",
        "y_train_one_hot = to_categorical(y_train_encoded_manual, num_classes=num_class)\n",
        "y_test_one_hot = to_categorical(y_test_encoded_manual, num_classes=num_class)\n",
        "\n",
        "# Reshape the input data to add a timestep dimension\n",
        "X_train_reshaped = BOW_train_feature.values.reshape(-1, 1, BOW_train_feature.shape[1])\n",
        "X_test_reshaped = BOW_test_feature.values.reshape(-1, 1, BOW_test_feature.shape[1])\n",
        "\n",
        "model = Sequential()\n",
        "\n",
        "# Add SimpleRNN layer\n",
        "model.add(SimpleRNN(units=64, input_shape=(1, BOW_train_feature.shape[1]))) # Shape is (timesteps, features)\n",
        "\n",
        "# Add output layer\n",
        "model.add(Dense(units=num_class, activation='softmax'))\n",
        "\n",
        "# Compile the model with categorical_crossentropy for one-hot encoded labels\n",
        "model.compile(optimizer='adam', loss='categorical_crossentropy', metrics=['accuracy'])\n",
        "\n",
        "# Train the model using the one-hot encoded labels\n",
        "model.fit(X_train_reshaped, y_train_one_hot, epochs=10, batch_size=32)\n",
        "\n",
        "# Predict probabilities for the test set\n",
        "y_pred_probabilities = model.predict(X_test_reshaped)\n",
        "\n",
        "# Convert probabilities to class labels\n",
        "y_pred_encoded_manual = np.argmax(y_pred_probabilities, axis=1)\n",
        "\n",
        "print(\"Classification Report:\")\n",
        "print(classification_report(y_test_one_hot.argmax(axis=1), y_pred_encoded_manual))\n",
        "\n",
        "accuracy_RNN = accuracy_score(y_test_one_hot.argmax(axis=1), y_pred_encoded_manual)\n",
        "f1_RNN = f1_score(y_test_one_hot.argmax(axis=1), y_pred_encoded_manual,average='macro')\n",
        "print('accuracy',accuracy_RNN)\n",
        "print('f1 score',f1_RNN)\n"
      ],
      "metadata": {
        "colab": {
          "base_uri": "https://localhost:8080/"
        },
        "id": "r0izi7tXfWeZ",
        "outputId": "aeb0bdfc-4ad9-487f-9307-bec726068880"
      },
      "execution_count": null,
      "outputs": [
        {
          "output_type": "stream",
          "name": "stdout",
          "text": [
            "Epoch 1/10\n",
            "133/133 [==============================] - 4s 6ms/step - loss: 1.0627 - accuracy: 0.6059\n",
            "Epoch 2/10\n",
            "133/133 [==============================] - 1s 7ms/step - loss: 0.7951 - accuracy: 0.6974\n",
            "Epoch 3/10\n",
            "133/133 [==============================] - 1s 5ms/step - loss: 0.7045 - accuracy: 0.7508\n",
            "Epoch 4/10\n",
            "133/133 [==============================] - 1s 5ms/step - loss: 0.6619 - accuracy: 0.7565\n",
            "Epoch 5/10\n",
            "133/133 [==============================] - 1s 4ms/step - loss: 0.6420 - accuracy: 0.7600\n",
            "Epoch 6/10\n",
            "133/133 [==============================] - 1s 5ms/step - loss: 0.6306 - accuracy: 0.7602\n",
            "Epoch 7/10\n",
            "133/133 [==============================] - 1s 5ms/step - loss: 0.6250 - accuracy: 0.7609\n",
            "Epoch 8/10\n",
            "133/133 [==============================] - 1s 6ms/step - loss: 0.6200 - accuracy: 0.7619\n",
            "Epoch 9/10\n",
            "133/133 [==============================] - 1s 6ms/step - loss: 0.6173 - accuracy: 0.7619\n",
            "Epoch 10/10\n",
            "133/133 [==============================] - 1s 5ms/step - loss: 0.6142 - accuracy: 0.7605\n",
            "24/24 [==============================] - 0s 3ms/step\n",
            "Classification Report:\n",
            "              precision    recall  f1-score   support\n",
            "\n",
            "           0       0.18      0.08      0.11       134\n",
            "           1       0.65      0.77      0.71       488\n",
            "           2       0.27      0.25      0.26       120\n",
            "           3       0.00      0.00      0.00         8\n",
            "\n",
            "    accuracy                           0.56       750\n",
            "   macro avg       0.28      0.28      0.27       750\n",
            "weighted avg       0.50      0.56      0.52       750\n",
            "\n",
            "accuracy 0.5573333333333333\n",
            "f1 score 0.2698556057832406\n"
          ]
        },
        {
          "output_type": "stream",
          "name": "stderr",
          "text": [
            "/usr/local/lib/python3.10/dist-packages/sklearn/metrics/_classification.py:1344: UndefinedMetricWarning: Precision and F-score are ill-defined and being set to 0.0 in labels with no predicted samples. Use `zero_division` parameter to control this behavior.\n",
            "  _warn_prf(average, modifier, msg_start, len(result))\n",
            "/usr/local/lib/python3.10/dist-packages/sklearn/metrics/_classification.py:1344: UndefinedMetricWarning: Precision and F-score are ill-defined and being set to 0.0 in labels with no predicted samples. Use `zero_division` parameter to control this behavior.\n",
            "  _warn_prf(average, modifier, msg_start, len(result))\n",
            "/usr/local/lib/python3.10/dist-packages/sklearn/metrics/_classification.py:1344: UndefinedMetricWarning: Precision and F-score are ill-defined and being set to 0.0 in labels with no predicted samples. Use `zero_division` parameter to control this behavior.\n",
            "  _warn_prf(average, modifier, msg_start, len(result))\n"
          ]
        }
      ]
    },
    {
      "cell_type": "markdown",
      "source": [
        "## **LSTM (Long Short Term Memory)**"
      ],
      "metadata": {
        "id": "QORY3jJ2q0rs"
      }
    },
    {
      "cell_type": "code",
      "source": [
        "from keras.layers import LSTM"
      ],
      "metadata": {
        "id": "mNwPZu3uhITH"
      },
      "execution_count": null,
      "outputs": []
    },
    {
      "cell_type": "code",
      "source": [
        "label_mapping = {'economic': 0, 'politics': 1, 'sport': 2, 'tech': 3}\n",
        "\n",
        "num_class = len(set(label_mapping.values()))\n",
        "\n",
        "# Encode the categorical labels into numerical format using the mapping\n",
        "y_train_encoded_manual = np.array([label_mapping[label] for label in y_train])\n",
        "y_test_encoded_manual = np.array([label_mapping[label] for label in y_test])\n",
        "\n",
        "# Convert labels to one-hot encoding\n",
        "y_train_one_hot = to_categorical(y_train_encoded_manual, num_classes=num_class)\n",
        "y_test_one_hot = to_categorical(y_test_encoded_manual, num_classes=num_class)\n",
        "\n",
        "# Reshape the input data to add a timestep dimension\n",
        "X_train_reshaped = BOW_train_feature.values.reshape(-1, 1, BOW_train_feature.shape[1])\n",
        "X_test_reshaped = BOW_test_feature.values.reshape(-1, 1, BOW_test_feature.shape[1])\n",
        "\n",
        "model = Sequential()\n",
        "\n",
        "# Add LSTM layer\n",
        "model.add(LSTM(units=64, input_shape=(1, BOW_train_feature.shape[1]))) # Shape is (timesteps, features)\n",
        "\n",
        "# Add output layer\n",
        "model.add(Dense(units=num_class, activation='softmax'))\n",
        "\n",
        "# Compile the model with categorical_crossentropy for one-hot encoded labels\n",
        "model.compile(optimizer='adam', loss='categorical_crossentropy', metrics=['accuracy'])\n",
        "\n",
        "# Train the model using the one-hot encoded labels\n",
        "model.fit(X_train_reshaped, y_train_one_hot, epochs=10, batch_size=32)\n",
        "\n",
        "# Predict probabilities for the test set\n",
        "y_pred_probabilities = model.predict(X_test_reshaped)\n",
        "\n",
        "# Convert probabilities to class labels\n",
        "y_pred_encoded_manual = np.argmax(y_pred_probabilities, axis=1)\n",
        "\n",
        "print(\"Classification Report:\")\n",
        "print(classification_report(y_test_one_hot.argmax(axis=1), y_pred_encoded_manual))\n",
        "\n",
        "accuracy_LSTM = accuracy_score(y_test_one_hot.argmax(axis=1), y_pred_encoded_manual)\n",
        "f1_LSTM = f1_score(y_test_one_hot.argmax(axis=1), y_pred_encoded_manual,average='macro')\n",
        "print('accuracy',accuracy_LSTM)\n",
        "print('f1 score',f1_LSTM)\n"
      ],
      "metadata": {
        "colab": {
          "base_uri": "https://localhost:8080/"
        },
        "id": "VEUbwwIDvxbv",
        "outputId": "0508dbad-95f3-4867-eae2-9608e53899a9"
      },
      "execution_count": null,
      "outputs": [
        {
          "output_type": "stream",
          "name": "stdout",
          "text": [
            "Epoch 1/10\n",
            "133/133 [==============================] - 10s 9ms/step - loss: 1.2031 - accuracy: 0.6071\n",
            "Epoch 2/10\n",
            "133/133 [==============================] - 1s 9ms/step - loss: 0.8936 - accuracy: 0.6416\n",
            "Epoch 3/10\n",
            "133/133 [==============================] - 1s 8ms/step - loss: 0.7752 - accuracy: 0.7052\n",
            "Epoch 4/10\n",
            "133/133 [==============================] - 1s 10ms/step - loss: 0.7058 - accuracy: 0.7501\n",
            "Epoch 5/10\n",
            "133/133 [==============================] - 1s 7ms/step - loss: 0.6680 - accuracy: 0.7560\n",
            "Epoch 6/10\n",
            "133/133 [==============================] - 1s 7ms/step - loss: 0.6469 - accuracy: 0.7586\n",
            "Epoch 7/10\n",
            "133/133 [==============================] - 1s 8ms/step - loss: 0.6347 - accuracy: 0.7602\n",
            "Epoch 8/10\n",
            "133/133 [==============================] - 2s 18ms/step - loss: 0.6272 - accuracy: 0.7609\n",
            "Epoch 9/10\n",
            "133/133 [==============================] - 2s 15ms/step - loss: 0.6218 - accuracy: 0.7605\n",
            "Epoch 10/10\n",
            "133/133 [==============================] - 2s 14ms/step - loss: 0.6185 - accuracy: 0.7614\n",
            "24/24 [==============================] - 0s 2ms/step\n",
            "Classification Report:\n",
            "              precision    recall  f1-score   support\n",
            "\n",
            "           0       0.16      0.08      0.11       134\n",
            "           1       0.65      0.75      0.70       488\n",
            "           2       0.28      0.28      0.28       120\n",
            "           3       0.00      0.00      0.00         8\n",
            "\n",
            "    accuracy                           0.55       750\n",
            "   macro avg       0.27      0.28      0.27       750\n",
            "weighted avg       0.50      0.55      0.52       750\n",
            "\n",
            "accuracy 0.5466666666666666\n",
            "f1 score 0.27079802408557524\n"
          ]
        },
        {
          "output_type": "stream",
          "name": "stderr",
          "text": [
            "/usr/local/lib/python3.10/dist-packages/sklearn/metrics/_classification.py:1344: UndefinedMetricWarning: Precision and F-score are ill-defined and being set to 0.0 in labels with no predicted samples. Use `zero_division` parameter to control this behavior.\n",
            "  _warn_prf(average, modifier, msg_start, len(result))\n",
            "/usr/local/lib/python3.10/dist-packages/sklearn/metrics/_classification.py:1344: UndefinedMetricWarning: Precision and F-score are ill-defined and being set to 0.0 in labels with no predicted samples. Use `zero_division` parameter to control this behavior.\n",
            "  _warn_prf(average, modifier, msg_start, len(result))\n",
            "/usr/local/lib/python3.10/dist-packages/sklearn/metrics/_classification.py:1344: UndefinedMetricWarning: Precision and F-score are ill-defined and being set to 0.0 in labels with no predicted samples. Use `zero_division` parameter to control this behavior.\n",
            "  _warn_prf(average, modifier, msg_start, len(result))\n"
          ]
        }
      ]
    },
    {
      "cell_type": "markdown",
      "source": [
        "## **GRU (Gate Recurrent Unit)**"
      ],
      "metadata": {
        "id": "Al2hwvvpgPHn"
      }
    },
    {
      "cell_type": "code",
      "source": [
        "from keras.layers import GRU"
      ],
      "metadata": {
        "id": "Ap_jh89qg5QA"
      },
      "execution_count": null,
      "outputs": []
    },
    {
      "cell_type": "code",
      "source": [
        "label_mapping = {'economic': 0, 'politics': 1, 'sport': 2, 'tech': 3}\n",
        "\n",
        "num_class = len(set(label_mapping.values()))\n",
        "\n",
        "# Encode the categorical labels into numerical format using the mapping\n",
        "y_train_encoded_manual = np.array([label_mapping[label] for label in y_train])\n",
        "y_test_encoded_manual = np.array([label_mapping[label] for label in y_test])\n",
        "\n",
        "# Convert labels to one-hot encoding\n",
        "y_train_one_hot = to_categorical(y_train_encoded_manual, num_classes=num_class)\n",
        "y_test_one_hot = to_categorical(y_test_encoded_manual, num_classes=num_class)\n",
        "\n",
        "# Reshape the input data to add a timestep dimension\n",
        "X_train_reshaped = BOW_train_feature.values.reshape(-1, 1, BOW_train_feature.shape[1])\n",
        "X_test_reshaped = BOW_test_feature.values.reshape(-1, 1, BOW_test_feature.shape[1])\n",
        "\n",
        "model = Sequential()\n",
        "\n",
        "# Add GRU layer\n",
        "model.add(GRU(units=64, input_shape=(1, BOW_train_feature.shape[1]))) # Shape is (timesteps, features)\n",
        "\n",
        "# Add output layer\n",
        "model.add(Dense(units=num_class, activation='softmax'))\n",
        "\n",
        "# Compile the model with categorical_crossentropy for one-hot encoded labels\n",
        "model.compile(optimizer='adam', loss='categorical_crossentropy', metrics=['accuracy'])\n",
        "\n",
        "# Train the model using the one-hot encoded labels\n",
        "model.fit(X_train_reshaped, y_train_one_hot, epochs=10, batch_size=32)\n",
        "\n",
        "# Predict probabilities for the test set\n",
        "y_pred_probabilities = model.predict(X_test_reshaped)\n",
        "\n",
        "# Convert probabilities to class labels\n",
        "y_pred_encoded_manual = np.argmax(y_pred_probabilities, axis=1)\n",
        "\n",
        "print(\"Classification Report:\")\n",
        "print(classification_report(y_test_one_hot.argmax(axis=1), y_pred_encoded_manual))\n",
        "\n",
        "accuracy_GRU = accuracy_score(y_test_one_hot.argmax(axis=1), y_pred_encoded_manual)\n",
        "f1_GRU= f1_score(y_test_one_hot.argmax(axis=1), y_pred_encoded_manual,average='macro')\n",
        "print('accuracy',accuracy_GRU)\n",
        "print('f1 score',f1_GRU)"
      ],
      "metadata": {
        "colab": {
          "base_uri": "https://localhost:8080/"
        },
        "id": "yJ-t4SkPv8ba",
        "outputId": "e747e73c-0715-4d8c-c1d9-fb912781802d"
      },
      "execution_count": null,
      "outputs": [
        {
          "output_type": "stream",
          "name": "stdout",
          "text": [
            "Epoch 1/10\n",
            "133/133 [==============================] - 3s 4ms/step - loss: 1.1054 - accuracy: 0.6056\n",
            "Epoch 2/10\n",
            "133/133 [==============================] - 1s 5ms/step - loss: 0.8398 - accuracy: 0.6675\n",
            "Epoch 3/10\n",
            "133/133 [==============================] - 1s 7ms/step - loss: 0.7365 - accuracy: 0.7332\n",
            "Epoch 4/10\n",
            "133/133 [==============================] - 1s 7ms/step - loss: 0.6805 - accuracy: 0.7551\n",
            "Epoch 5/10\n",
            "133/133 [==============================] - 1s 8ms/step - loss: 0.6519 - accuracy: 0.7591\n",
            "Epoch 6/10\n",
            "133/133 [==============================] - 1s 7ms/step - loss: 0.6371 - accuracy: 0.7612\n",
            "Epoch 7/10\n",
            "133/133 [==============================] - 1s 8ms/step - loss: 0.6289 - accuracy: 0.7616\n",
            "Epoch 8/10\n",
            "133/133 [==============================] - 1s 8ms/step - loss: 0.6232 - accuracy: 0.7614\n",
            "Epoch 9/10\n",
            "133/133 [==============================] - 1s 9ms/step - loss: 0.6183 - accuracy: 0.7609\n",
            "Epoch 10/10\n",
            "133/133 [==============================] - 1s 7ms/step - loss: 0.6167 - accuracy: 0.7612\n",
            "24/24 [==============================] - 1s 4ms/step\n",
            "Classification Report:\n",
            "              precision    recall  f1-score   support\n",
            "\n",
            "           0       0.17      0.08      0.11       134\n",
            "           1       0.65      0.77      0.70       488\n",
            "           2       0.27      0.24      0.25       120\n",
            "           3       0.00      0.00      0.00         8\n",
            "\n",
            "    accuracy                           0.55       750\n",
            "   macro avg       0.27      0.27      0.27       750\n",
            "weighted avg       0.50      0.55      0.52       750\n",
            "\n",
            "accuracy 0.5533333333333333\n",
            "f1 score 0.267265450994591\n"
          ]
        },
        {
          "output_type": "stream",
          "name": "stderr",
          "text": [
            "/usr/local/lib/python3.10/dist-packages/sklearn/metrics/_classification.py:1344: UndefinedMetricWarning: Precision and F-score are ill-defined and being set to 0.0 in labels with no predicted samples. Use `zero_division` parameter to control this behavior.\n",
            "  _warn_prf(average, modifier, msg_start, len(result))\n",
            "/usr/local/lib/python3.10/dist-packages/sklearn/metrics/_classification.py:1344: UndefinedMetricWarning: Precision and F-score are ill-defined and being set to 0.0 in labels with no predicted samples. Use `zero_division` parameter to control this behavior.\n",
            "  _warn_prf(average, modifier, msg_start, len(result))\n",
            "/usr/local/lib/python3.10/dist-packages/sklearn/metrics/_classification.py:1344: UndefinedMetricWarning: Precision and F-score are ill-defined and being set to 0.0 in labels with no predicted samples. Use `zero_division` parameter to control this behavior.\n",
            "  _warn_prf(average, modifier, msg_start, len(result))\n"
          ]
        }
      ]
    },
    {
      "cell_type": "markdown",
      "metadata": {
        "id": "YhqfiRZR5rzI"
      },
      "source": [
        "# **Plot**"
      ]
    },
    {
      "cell_type": "code",
      "source": [
        "models = ['Naive Bayes', 'Decision Tree', 'RNN', 'LSTM', 'GRU']\n",
        "accuracies = [accuracy_NB, accuracy_DT, accuracy_RNN, accuracy_LSTM, accuracy_GRU]\n",
        "f1_scores = [f1_NB, f1_DT, f1_RNN, f1_LSTM, f1_GRU]\n",
        "\n",
        "x = np.arange(len(models))\n",
        "width = 0.35\n",
        "\n",
        "fig, ax = plt.subplots()\n",
        "rects1 = ax.bar(x - width/2, accuracies, width, label='Accuracy',color='lightblue')\n",
        "rects2 = ax.bar(x + width/2, f1_scores, width, label='F1 Score',color='pink')\n",
        "\n",
        "ax.set_ylabel('Scores')\n",
        "ax.set_title('Accuracy and F1 Score by Model using BOW embeddings')\n",
        "ax.set_xticks(x)\n",
        "ax.set_xticklabels(models)\n",
        "ax.legend()\n",
        "\n",
        "ax.set_ylim(0,0.7)\n",
        "fig.tight_layout()\n",
        "plt.show()"
      ],
      "metadata": {
        "colab": {
          "base_uri": "https://localhost:8080/"
        },
        "id": "XICP1ZeR5iIN",
        "outputId": "ae2e1eb7-9080-4151-d6e5-abcb3e989f19"
      },
      "execution_count": null,
      "outputs": [
        {
          "output_type": "display_data",
          "data": {
            "text/plain": [
              "<Figure size 640x480 with 1 Axes>"
            ],
            "image/png": "[encoded data removed]"
          },
          "metadata": {}
        }
      ]
    },
    {
      "cell_type": "code",
      "source": [],
      "metadata": {
        "id": "AURaDFR69Ddf"
      },
      "execution_count": null,
      "outputs": []
    }
  ]
}