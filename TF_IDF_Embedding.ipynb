{
  "nbformat": 4,
  "nbformat_minor": 0,
  "metadata": {
    "colab": {
      "provenance": [],
      "collapsed_sections": [
        "BWHcyi_wKHKF",
        "bTlxp4p5KMj9",
        "1y6YLML_KPxo",
        "XKgsDnNcKWXC",
        "KU8NxMJbubLa",
        "XFhLg3LSU62P",
        "k7hbzIGhZQoh",
        "Gor3-2Eig9zP",
        "JbPzX-kOUyo4",
        "T_-NJEVaigc6",
        "1DlnNC3FivMF",
        "QORY3jJ2q0rs",
        "TuQprZ2Ci08D",
        "YhqfiRZR5rzI"
      ]
    },
    "kernelspec": {
      "name": "python3",
      "display_name": "Python 3"
    },
    "language_info": {
      "name": "python"
    }
  },
  "cells": [
    {
      "cell_type": "code",
      "source": [
        "from google.colab import drive\n",
        "drive.mount('/content/drive')"
      ],
      "metadata": {
        "colab": {
          "base_uri": "https://localhost:8080/"
        },
        "id": "HEwKgHcnQG1E",
        "outputId": "e0254a18-e07d-401a-a622-79005ab491dd"
      },
      "execution_count": null,
      "outputs": [
        {
          "output_type": "stream",
          "name": "stdout",
          "text": [
            "Mounted at /content/drive\n"
          ]
        }
      ]
    },
    {
      "cell_type": "markdown",
      "metadata": {
        "id": "BWHcyi_wKHKF"
      },
      "source": [
        "# **Read Data**"
      ]
    },
    {
      "cell_type": "code",
      "source": [
        "import pandas as pd"
      ],
      "metadata": {
        "id": "Ddi51CWox8CK"
      },
      "execution_count": null,
      "outputs": []
    },
    {
      "cell_type": "code",
      "execution_count": null,
      "metadata": {
        "id": "jpZCgTzMAiw8"
      },
      "outputs": [],
      "source": [
        "news_train=pd.read_excel('/content/drive/MyDrive/News_train.xlsx')"
      ]
    },
    {
      "cell_type": "code",
      "source": [
        "news_train.shape"
      ],
      "metadata": {
        "colab": {
          "base_uri": "https://localhost:8080/"
        },
        "id": "qSchvg9YQ-QE",
        "outputId": "34e7979b-1c16-4d76-df78-0f9063e458d6"
      },
      "execution_count": null,
      "outputs": [
        {
          "output_type": "execute_result",
          "data": {
            "text/plain": [
              "(5000, 2)"
            ]
          },
          "metadata": {},
          "execution_count": 4
        }
      ]
    },
    {
      "cell_type": "markdown",
      "metadata": {
        "id": "bTlxp4p5KMj9"
      },
      "source": [
        "# **Preprocessing**"
      ]
    },
    {
      "cell_type": "markdown",
      "metadata": {
        "id": "1y6YLML_KPxo"
      },
      "source": [
        "### **re**"
      ]
    },
    {
      "cell_type": "code",
      "source": [
        "!pip install pyarabic"
      ],
      "metadata": {
        "colab": {
          "base_uri": "https://localhost:8080/"
        },
        "id": "yG4FLKz8FT8C",
        "outputId": "80d729b1-431c-42e5-9da0-05203753a4c5"
      },
      "execution_count": null,
      "outputs": [
        {
          "output_type": "stream",
          "name": "stdout",
          "text": [
            "Collecting pyarabic\n",
            "  Downloading PyArabic-0.6.15-py3-none-any.whl (126 kB)\n",
            "\u001b[2K     \u001b[90m━━━━━━━━━━━━━━━━━━━━━━━━━━━━━━━━━━━━━━━━\u001b[0m \u001b[32m126.4/126.4 kB\u001b[0m \u001b[31m3.3 MB/s\u001b[0m eta \u001b[36m0:00:00\u001b[0m\n",
            "\u001b[?25hRequirement already satisfied: six>=1.14.0 in /usr/local/lib/python3.10/dist-packages (from pyarabic) (1.16.0)\n",
            "Installing collected packages: pyarabic\n",
            "Successfully installed pyarabic-0.6.15\n"
          ]
        }
      ]
    },
    {
      "cell_type": "code",
      "source": [
        "import pyarabic"
      ],
      "metadata": {
        "id": "nOeGYNbeFXkk"
      },
      "execution_count": null,
      "outputs": []
    },
    {
      "cell_type": "code",
      "execution_count": null,
      "metadata": {
        "id": "llK2Eci2AyS1"
      },
      "outputs": [],
      "source": [
        "import re\n",
        "import unicodedata\n",
        "from pyarabic.araby import tokenize\n",
        "\n",
        "def normalize_arabic(text):\n",
        "    # Normalize Arabic text\n",
        "    text = ''.join(c for c in unicodedata.normalize('NFD', text) if unicodedata.category(c) != 'Mn') # remove diacritics\n",
        "    text = re.sub(\"[إأٱآا]\", \"ا\", text)\n",
        "    text = re.sub(\"ى\", \"ي\", text)\n",
        "    text = re.sub(\"ؤ\", \"ء\", text)\n",
        "    text = re.sub(\"ئ\", \"ء\", text)\n",
        "    text = re.sub(\"ة\", \"ه\", text)\n",
        "    text = re.sub('/', ' ', text)\n",
        "    text = re.sub('-', ' ', text)\n",
        "    text = re.sub('_', ' ', text)\n",
        "    text = re.sub(' و ', ' ', text)\n",
        "    text = re.sub(\"'\", ' ', text)\n",
        "    text = re.sub(\"``\", ' ', text)\n",
        "    text = re.sub('\"', ' ', text)\n",
        "    text = re.sub('%', ' ', text)\n",
        "    text = re.sub('»', ' ', text)\n",
        "    text = re.sub('«', ' ', text)\n",
        "    text = re.sub(r'\\bال(\\w+)\\b', r'\\1', text)\n",
        "    text = re.sub(r'\\bلل(\\w+)\\b', r'\\1', text)\n",
        "    text = re.sub(r'\\bبال(\\w+)\\b', r'\\1', text)\n",
        "    text = re.sub(r'[A-Za-z0-9]', r'', text)#remove english characters\n",
        "    text = re.sub(r'[0-9]', r'', text)#remove numbers\n",
        "    text = re.sub(r'[^\\w\\s]', r'', text)#remove punctuation\n",
        "\n",
        "    words = tokenize(text)\n",
        "\n",
        "    normalized_text = ' '.join(words)\n",
        "\n",
        "    return normalized_text"
      ]
    },
    {
      "cell_type": "code",
      "execution_count": null,
      "metadata": {
        "id": "zHJtqAx-C65d"
      },
      "outputs": [],
      "source": [
        "news_train['News'] = news_train['News'].apply(normalize_arabic)"
      ]
    },
    {
      "cell_type": "code",
      "execution_count": null,
      "metadata": {
        "colab": {
          "base_uri": "https://localhost:8080/"
        },
        "id": "vNnNttwgC62o",
        "outputId": "933ad3fa-901f-4821-8d8d-f58a2fd00874"
      },
      "outputs": [
        {
          "output_type": "execute_result",
          "data": {
            "text/plain": [
              "0       اشتباك حريري عون اتهامات لباسيل تمسك ثلث معطل ...\n",
              "1                               عون حريري اصبح غريب اطوار\n",
              "2       وزير خارجيه امريكي ندرس سحب كامل قواتنا من افغ...\n",
              "3       افغانستان استعدادات حثيثه لاجتماع تركيا وكابل ...\n",
              "4                   اندبندنت مفاوضات سريه كادت تنقذ قذافي\n",
              "                              ...                        \n",
              "4995                اوروبا تبدا احصاء خساير فيضانات مدمره\n",
              "4996    قتل متظاهر رصاص خلال احتجاجات علي شح مياه في م...\n",
              "4997    وسايل اعلام ايرانيه تتحدث عن اندلاع احتجاجات ف...\n",
              "4998           مفاوضات افغانيه تتواصل في عاصمه قطريه دوحه\n",
              "4999    تعليق مفاوضات افغانيه في دوحه موقتا لمزيد من م...\n",
              "Name: News, Length: 5000, dtype: object"
            ]
          },
          "metadata": {},
          "execution_count": 9
        }
      ],
      "source": [
        "news_train['News']"
      ]
    },
    {
      "cell_type": "code",
      "execution_count": null,
      "metadata": {
        "id": "ZiSx6tOrhv3K",
        "colab": {
          "base_uri": "https://localhost:8080/"
        },
        "outputId": "6465c484-1fb3-4291-f997-8160af8ec080"
      },
      "outputs": [
        {
          "output_type": "execute_result",
          "data": {
            "text/plain": [
              "(5000, 2)"
            ]
          },
          "metadata": {},
          "execution_count": 10
        }
      ],
      "source": [
        "news_train.shape"
      ]
    },
    {
      "cell_type": "markdown",
      "metadata": {
        "id": "XKgsDnNcKWXC"
      },
      "source": [
        "### **nltk**"
      ]
    },
    {
      "cell_type": "code",
      "source": [
        "import nltk\n",
        "nltk.download('stopwords')\n",
        "\n",
        "from nltk.corpus import stopwords"
      ],
      "metadata": {
        "id": "Kztx2gmGEmTQ",
        "colab": {
          "base_uri": "https://localhost:8080/"
        },
        "outputId": "5234c784-f88f-4cb8-85ff-78d251fc609d"
      },
      "execution_count": null,
      "outputs": [
        {
          "output_type": "stream",
          "name": "stderr",
          "text": [
            "[nltk_data] Downloading package stopwords to /root/nltk_data...\n",
            "[nltk_data]   Unzipping corpora/stopwords.zip.\n"
          ]
        }
      ]
    },
    {
      "cell_type": "code",
      "execution_count": null,
      "metadata": {
        "id": "-HG-0qBlFixO"
      },
      "outputs": [],
      "source": [
        "import re\n",
        "from pyarabic.araby import tokenize\n",
        "from nltk.corpus import stopwords\n",
        "from nltk.stem import ISRIStemmer\n",
        "\n",
        "stemmer = ISRIStemmer()\n",
        "\n",
        "def preprocess_text(text):\n",
        "    # Tokenization for Arabic text using PyArabic's tokenize function\n",
        "    tokens = tokenize(text)\n",
        "\n",
        "    # Get Arabic stop words from NLTK\n",
        "    stop_words_arabic = set(stopwords.words('arabic'))\n",
        "\n",
        "    # Remove stop words\n",
        "    arabic_tokens = [token for token in tokens if token not in stop_words_arabic]\n",
        "\n",
        "    # Stemming Arabic text\n",
        "    arabic_tokens = [stemmer.stem(token) for token in arabic_tokens]\n",
        "\n",
        "    # Join tokens back into text\n",
        "    processed_text = ' '.join(arabic_tokens)\n",
        "\n",
        "    return processed_text"
      ]
    },
    {
      "cell_type": "code",
      "execution_count": null,
      "metadata": {
        "id": "3eIzGzoYZ9HO"
      },
      "outputs": [],
      "source": [
        "preprocessed_documents_news_train = [preprocess_text(doc) for doc in news_train['News']]"
      ]
    },
    {
      "cell_type": "code",
      "execution_count": null,
      "metadata": {
        "colab": {
          "base_uri": "https://localhost:8080/"
        },
        "id": "rfRwf66caP9A",
        "outputId": "49d76366-576f-4602-e5e3-c6b4450c4322"
      },
      "outputs": [
        {
          "output_type": "execute_result",
          "data": {
            "text/plain": [
              "5000"
            ]
          },
          "metadata": {},
          "execution_count": 14
        }
      ],
      "source": [
        "len(preprocessed_documents_news_train)"
      ]
    },
    {
      "cell_type": "markdown",
      "metadata": {
        "id": "KU8NxMJbubLa"
      },
      "source": [
        "# **Splitting the data into training and validation**"
      ]
    },
    {
      "cell_type": "code",
      "source": [
        "news_train['processed_text'] = preprocessed_documents_news_train"
      ],
      "metadata": {
        "id": "bmuPmwOHqSfL"
      },
      "execution_count": null,
      "outputs": []
    },
    {
      "cell_type": "code",
      "source": [
        "news_train['processed_text']"
      ],
      "metadata": {
        "colab": {
          "base_uri": "https://localhost:8080/"
        },
        "id": "MRtdxYItZm5K",
        "outputId": "9c874762-42a1-47ed-9cee-0e2244efe27b"
      },
      "execution_count": null,
      "outputs": [
        {
          "output_type": "execute_result",
          "data": {
            "text/plain": [
              "0                 شبك حرر عون تهم اسل تمس ثلث عطل بقء حكم\n",
              "1                                    عون حرر اصبح غرب طور\n",
              "2                     وزر خرج امر درس سحب كمل قوت غنس حلل\n",
              "3       غنس عدد حثث جمع ترك كبل تهم طلب ركز علي حرب بد...\n",
              "4                            اندبندنت فاض سره كدت نقذ قذف\n",
              "                              ...                        \n",
              "4995                             ورب تبد حصء خسير فيض دمر\n",
              "4996      قتل ظاهر رصص خلل حجج علي شح ياه طقه جنب غرب اير\n",
              "4997                          سيل علم يرن حدث دلع حجج شرع\n",
              "4998                              فاض فغن وصل عصم قطر دوح\n",
              "4999                          علق فاض فغن دوح وقت زيد شار\n",
              "Name: processed_text, Length: 5000, dtype: object"
            ]
          },
          "metadata": {},
          "execution_count": 16
        }
      ]
    },
    {
      "cell_type": "code",
      "source": [
        "news_train.columns"
      ],
      "metadata": {
        "colab": {
          "base_uri": "https://localhost:8080/"
        },
        "id": "IUTqRljYZB_e",
        "outputId": "49c56f2d-2edc-440a-82e0-179fe5af90d3"
      },
      "execution_count": null,
      "outputs": [
        {
          "output_type": "execute_result",
          "data": {
            "text/plain": [
              "Index(['Type', 'News', 'processed_text'], dtype='object')"
            ]
          },
          "metadata": {},
          "execution_count": 17
        }
      ]
    },
    {
      "cell_type": "code",
      "source": [
        "y=news_train['Type']\n",
        "X=news_train.drop(columns=['Type', 'News'], axis=1)"
      ],
      "metadata": {
        "id": "J7VAT3txjvER"
      },
      "execution_count": null,
      "outputs": []
    },
    {
      "cell_type": "code",
      "source": [
        "from sklearn.model_selection import train_test_split\n",
        "X_train, X_test, y_train, y_test = train_test_split(X, y, test_size=0.15, random_state=42)"
      ],
      "metadata": {
        "id": "sfwoItxEjelq"
      },
      "execution_count": null,
      "outputs": []
    },
    {
      "cell_type": "code",
      "source": [
        "len(X_train)"
      ],
      "metadata": {
        "colab": {
          "base_uri": "https://localhost:8080/"
        },
        "id": "9oUkNNUOb1fL",
        "outputId": "7aabf717-a898-43eb-cdb0-7c72900a0e6e"
      },
      "execution_count": null,
      "outputs": [
        {
          "output_type": "execute_result",
          "data": {
            "text/plain": [
              "4250"
            ]
          },
          "metadata": {},
          "execution_count": 20
        }
      ]
    },
    {
      "cell_type": "markdown",
      "metadata": {
        "id": "XFhLg3LSU62P"
      },
      "source": [
        "# **Word Embedding(TF-IDF)**"
      ]
    },
    {
      "cell_type": "code",
      "execution_count": null,
      "metadata": {
        "id": "66aXlyvdVDId"
      },
      "outputs": [],
      "source": [
        "from sklearn.feature_extraction.text import TfidfVectorizer\n",
        "\n",
        "\n",
        "vectorizer = TfidfVectorizer(max_features=300)\n",
        "X_train_tfidf = vectorizer.fit_transform(X_train['processed_text'])\n",
        "X_test_tfidf = vectorizer.fit_transform(X_test['processed_text'])\n",
        "\n",
        "\n",
        "tfidf_train_feature = pd.DataFrame(X_train_tfidf.toarray(), columns=vectorizer.get_feature_names_out())\n",
        "tfidf_test_feature = pd.DataFrame(X_test_tfidf.toarray(), columns=vectorizer.get_feature_names_out())"
      ]
    },
    {
      "cell_type": "code",
      "source": [
        "tfidf_train_feature.values"
      ],
      "metadata": {
        "colab": {
          "base_uri": "https://localhost:8080/"
        },
        "id": "vUX8iBfrGb2e",
        "outputId": "1c4518f1-8301-472c-ac8d-8d4bc035e4c7"
      },
      "execution_count": null,
      "outputs": [
        {
          "output_type": "execute_result",
          "data": {
            "text/plain": [
              "array([[0.        , 0.        , 0.        , ..., 0.        , 0.        ,\n",
              "        0.        ],\n",
              "       [0.        , 0.        , 0.        , ..., 0.        , 0.        ,\n",
              "        0.        ],\n",
              "       [0.        , 0.        , 0.        , ..., 0.        , 0.        ,\n",
              "        0.        ],\n",
              "       ...,\n",
              "       [0.        , 0.        , 0.        , ..., 0.        , 0.        ,\n",
              "        0.        ],\n",
              "       [0.        , 0.        , 0.        , ..., 0.        , 0.        ,\n",
              "        0.        ],\n",
              "       [0.        , 0.        , 0.42390011, ..., 0.        , 0.        ,\n",
              "        0.        ]])"
            ]
          },
          "metadata": {},
          "execution_count": 22
        }
      ]
    },
    {
      "cell_type": "code",
      "source": [
        "#for word in tfidf_train_feature.columns:\n",
        "    #embedding = tfidf_train_feature[word].values\n",
        "    #print(\"Word:\", word, \", vector:\", embedding)\n",
        "#print(embedding)"
      ],
      "metadata": {
        "id": "Z5-ra82NZJch"
      },
      "execution_count": null,
      "outputs": []
    },
    {
      "cell_type": "markdown",
      "source": [
        "# **Models**"
      ],
      "metadata": {
        "id": "BsNsZ8dQg5q5"
      }
    },
    {
      "cell_type": "markdown",
      "source": [
        "# **Traditional Models**"
      ],
      "metadata": {
        "id": "k7hbzIGhZQoh"
      }
    },
    {
      "cell_type": "markdown",
      "source": [
        "## **Naive Bayes**"
      ],
      "metadata": {
        "id": "Gor3-2Eig9zP"
      }
    },
    {
      "cell_type": "code",
      "source": [
        "from sklearn.naive_bayes import MultinomialNB, GaussianNB"
      ],
      "metadata": {
        "id": "VJG9ycs7isld"
      },
      "execution_count": null,
      "outputs": []
    },
    {
      "cell_type": "code",
      "source": [
        "from sklearn.metrics import accuracy_score, f1_score, classification_report"
      ],
      "metadata": {
        "id": "G7LsoVSblvMg"
      },
      "execution_count": null,
      "outputs": []
    },
    {
      "cell_type": "code",
      "source": [
        "print(tfidf_train_feature.shape)\n",
        "print(tfidf_test_feature.shape)"
      ],
      "metadata": {
        "id": "ucwGDEehnA0V",
        "colab": {
          "base_uri": "https://localhost:8080/"
        },
        "outputId": "4fb64476-f49e-424b-a59f-edd4aded94e9"
      },
      "execution_count": null,
      "outputs": [
        {
          "output_type": "stream",
          "name": "stdout",
          "text": [
            "(4250, 300)\n",
            "(750, 300)\n"
          ]
        }
      ]
    },
    {
      "cell_type": "code",
      "source": [
        "naive_bayes_classifier = MultinomialNB()\n",
        "naive_bayes_classifier.fit(tfidf_train_feature.values, y_train)\n",
        "\n",
        "y_pred = naive_bayes_classifier.predict(tfidf_test_feature.values)\n",
        "\n",
        "\n",
        "accuracy_NB = accuracy_score(y_test, y_pred)\n",
        "f1_NB = f1_score(y_test, y_pred,average='macro')\n",
        "print('accuracy',accuracy_NB)\n",
        "print('f1 score',f1_NB)\n",
        "\n",
        "print(\"Classification Report:\")\n",
        "print(classification_report(y_test, y_pred))"
      ],
      "metadata": {
        "id": "j7ueEF9Yg8bz",
        "colab": {
          "base_uri": "https://localhost:8080/"
        },
        "outputId": "8f89c3b1-07d2-4e8d-9df8-d028238b0118"
      },
      "execution_count": null,
      "outputs": [
        {
          "output_type": "stream",
          "name": "stdout",
          "text": [
            "accuracy 0.5546666666666666\n",
            "f1 score 0.2636609197929953\n",
            "Classification Report:\n",
            "              precision    recall  f1-score   support\n",
            "\n",
            "    economic       0.23      0.11      0.15       134\n",
            "    politics       0.66      0.78      0.72       488\n",
            "       sport       0.19      0.18      0.19       120\n",
            "        tech       0.00      0.00      0.00         8\n",
            "\n",
            "    accuracy                           0.55       750\n",
            "   macro avg       0.27      0.27      0.26       750\n",
            "weighted avg       0.50      0.55      0.52       750\n",
            "\n"
          ]
        },
        {
          "output_type": "stream",
          "name": "stderr",
          "text": [
            "/usr/local/lib/python3.10/dist-packages/sklearn/metrics/_classification.py:1344: UndefinedMetricWarning: Precision and F-score are ill-defined and being set to 0.0 in labels with no predicted samples. Use `zero_division` parameter to control this behavior.\n",
            "  _warn_prf(average, modifier, msg_start, len(result))\n",
            "/usr/local/lib/python3.10/dist-packages/sklearn/metrics/_classification.py:1344: UndefinedMetricWarning: Precision and F-score are ill-defined and being set to 0.0 in labels with no predicted samples. Use `zero_division` parameter to control this behavior.\n",
            "  _warn_prf(average, modifier, msg_start, len(result))\n",
            "/usr/local/lib/python3.10/dist-packages/sklearn/metrics/_classification.py:1344: UndefinedMetricWarning: Precision and F-score are ill-defined and being set to 0.0 in labels with no predicted samples. Use `zero_division` parameter to control this behavior.\n",
            "  _warn_prf(average, modifier, msg_start, len(result))\n"
          ]
        }
      ]
    },
    {
      "cell_type": "markdown",
      "source": [
        "## **Decision Tree**"
      ],
      "metadata": {
        "id": "JbPzX-kOUyo4"
      }
    },
    {
      "cell_type": "code",
      "source": [
        "from sklearn.tree import DecisionTreeClassifier"
      ],
      "metadata": {
        "id": "bZW6v8ANVHQ8"
      },
      "execution_count": null,
      "outputs": []
    },
    {
      "cell_type": "code",
      "source": [
        "from sklearn.metrics import accuracy_score, f1_score, classification_report"
      ],
      "metadata": {
        "id": "07-De86-VHQ8"
      },
      "execution_count": null,
      "outputs": []
    },
    {
      "cell_type": "code",
      "source": [
        "print(tfidf_train_feature.shape)\n",
        "print(tfidf_test_feature.shape)"
      ],
      "metadata": {
        "id": "MllYdtbtVHQ8",
        "colab": {
          "base_uri": "https://localhost:8080/"
        },
        "outputId": "63c3cd5e-401f-439d-8c36-0c6b4b049546"
      },
      "execution_count": null,
      "outputs": [
        {
          "output_type": "stream",
          "name": "stdout",
          "text": [
            "(4250, 300)\n",
            "(750, 300)\n"
          ]
        }
      ]
    },
    {
      "cell_type": "code",
      "source": [
        "Decision_Tree_classifier = DecisionTreeClassifier()\n",
        "Decision_Tree_classifier.fit(tfidf_train_feature.values, y_train)\n",
        "\n",
        "y_pred = Decision_Tree_classifier.predict(tfidf_test_feature.values)\n",
        "\n",
        "accuracy_DT = accuracy_score(y_test, y_pred)\n",
        "f1_DT = f1_score(y_test, y_pred,average='macro')\n",
        "print('accuracy',accuracy_DT)\n",
        "print('f1 score',f1_DT)\n",
        "\n",
        "print(\"Classification Report:\")\n",
        "print(classification_report(y_test, y_pred))"
      ],
      "metadata": {
        "id": "mjK9WNsiVHQ9",
        "colab": {
          "base_uri": "https://localhost:8080/"
        },
        "outputId": "244d12da-1493-4e14-d4c4-b66244b328f8"
      },
      "execution_count": null,
      "outputs": [
        {
          "output_type": "stream",
          "name": "stdout",
          "text": [
            "accuracy 0.364\n",
            "f1 score 0.23968955029229694\n",
            "Classification Report:\n",
            "              precision    recall  f1-score   support\n",
            "\n",
            "    economic       0.16      0.18      0.17       134\n",
            "    politics       0.63      0.42      0.51       488\n",
            "       sport       0.20      0.36      0.26       120\n",
            "        tech       0.02      0.12      0.03         8\n",
            "\n",
            "    accuracy                           0.36       750\n",
            "   macro avg       0.25      0.27      0.24       750\n",
            "weighted avg       0.47      0.36      0.40       750\n",
            "\n"
          ]
        }
      ]
    },
    {
      "cell_type": "markdown",
      "source": [
        "# **Neural Language Models**"
      ],
      "metadata": {
        "id": "T_-NJEVaigc6"
      }
    },
    {
      "cell_type": "code",
      "source": [
        "import numpy as np\n",
        "import matplotlib.pyplot as plt\n",
        "from keras.models import Sequential\n",
        "from keras.layers import Dense\n",
        "from keras.preprocessing.sequence import pad_sequences\n",
        "from tensorflow.keras.utils import to_categorical\n",
        "from sklearn.metrics import classification_report"
      ],
      "metadata": {
        "id": "f1uVEYr_EvCm"
      },
      "execution_count": null,
      "outputs": []
    },
    {
      "cell_type": "markdown",
      "source": [
        "## **RNN (Recurrent Neural Networks)**"
      ],
      "metadata": {
        "id": "1DlnNC3FivMF"
      }
    },
    {
      "cell_type": "code",
      "source": [
        "from keras.layers import SimpleRNN"
      ],
      "metadata": {
        "id": "fjptBX4hAui0"
      },
      "execution_count": null,
      "outputs": []
    },
    {
      "cell_type": "code",
      "source": [
        "label_mapping = {'economic': 0, 'politics': 1, 'sport': 2, 'tech': 3}\n",
        "\n",
        "num_class = len(set(label_mapping.values()))\n",
        "\n",
        "# Encode the categorical labels into numerical format using the mapping\n",
        "y_train_encoded_manual = np.array([label_mapping[label] for label in y_train])\n",
        "y_test_encoded_manual = np.array([label_mapping[label] for label in y_test])\n",
        "\n",
        "# Convert labels to one-hot encoding\n",
        "y_train_one_hot = to_categorical(y_train_encoded_manual, num_classes=num_class)\n",
        "y_test_one_hot = to_categorical(y_test_encoded_manual, num_classes=num_class)\n",
        "\n",
        "# Reshape the input data to add a timestep dimension\n",
        "X_train_reshaped = tfidf_train_feature.values.reshape(-1, 1, tfidf_train_feature.shape[1])\n",
        "X_test_reshaped = tfidf_test_feature.values.reshape(-1, 1, tfidf_test_feature.shape[1])\n",
        "\n",
        "model = Sequential()\n",
        "\n",
        "# Add SimpleRNN layer\n",
        "model.add(SimpleRNN(units=64, input_shape=(1, tfidf_train_feature.shape[1]))) # Shape is (timesteps, features)\n",
        "\n",
        "# Add output layer\n",
        "model.add(Dense(units=num_class, activation='softmax'))\n",
        "\n",
        "# Compile the model with categorical_crossentropy for one-hot encoded labels\n",
        "model.compile(optimizer='adam', loss='categorical_crossentropy', metrics=['accuracy'])\n",
        "\n",
        "# Train the model using the one-hot encoded labels\n",
        "model.fit(X_train_reshaped, y_train_one_hot, epochs=10, batch_size=32)\n",
        "\n",
        "# Predict probabilities for the test set\n",
        "y_pred_probabilities = model.predict(X_test_reshaped)\n",
        "\n",
        "# Convert probabilities to class labels\n",
        "y_pred_encoded_manual = np.argmax(y_pred_probabilities, axis=1)\n",
        "\n",
        "print(\"Classification Report:\")\n",
        "print(classification_report(y_test_one_hot.argmax(axis=1), y_pred_encoded_manual))\n",
        "\n",
        "accuracy_RNN = accuracy_score(y_test_one_hot.argmax(axis=1), y_pred_encoded_manual)\n",
        "f1_RNN = f1_score(y_test_one_hot.argmax(axis=1), y_pred_encoded_manual,average='macro')\n",
        "print('accuracy',accuracy_RNN)\n",
        "print('f1 score',f1_RNN)\n"
      ],
      "metadata": {
        "colab": {
          "base_uri": "https://localhost:8080/"
        },
        "id": "DN-twU9ReaT9",
        "outputId": "4b1463ca-1189-4ca9-a539-ae1ccf7562de"
      },
      "execution_count": null,
      "outputs": [
        {
          "output_type": "stream",
          "name": "stdout",
          "text": [
            "Epoch 1/10\n",
            "133/133 [==============================] - 3s 5ms/step - loss: 0.9224 - accuracy: 0.6605\n",
            "Epoch 2/10\n",
            "133/133 [==============================] - 1s 5ms/step - loss: 0.5054 - accuracy: 0.8402\n",
            "Epoch 3/10\n",
            "133/133 [==============================] - 1s 5ms/step - loss: 0.3853 - accuracy: 0.8762\n",
            "Epoch 4/10\n",
            "133/133 [==============================] - 1s 6ms/step - loss: 0.3404 - accuracy: 0.8819\n",
            "Epoch 5/10\n",
            "133/133 [==============================] - 1s 5ms/step - loss: 0.3181 - accuracy: 0.8925\n",
            "Epoch 6/10\n",
            "133/133 [==============================] - 1s 5ms/step - loss: 0.3023 - accuracy: 0.8976\n",
            "Epoch 7/10\n",
            "133/133 [==============================] - 1s 6ms/step - loss: 0.2903 - accuracy: 0.8969\n",
            "Epoch 8/10\n",
            "133/133 [==============================] - 1s 8ms/step - loss: 0.2821 - accuracy: 0.8991\n",
            "Epoch 9/10\n",
            "133/133 [==============================] - 1s 7ms/step - loss: 0.2743 - accuracy: 0.9000\n",
            "Epoch 10/10\n",
            "133/133 [==============================] - 1s 6ms/step - loss: 0.2700 - accuracy: 0.9012\n",
            "24/24 [==============================] - 1s 6ms/step\n",
            "Classification Report:\n",
            "              precision    recall  f1-score   support\n",
            "\n",
            "           0       0.28      0.21      0.24       134\n",
            "           1       0.68      0.68      0.68       488\n",
            "           2       0.20      0.26      0.22       120\n",
            "           3       0.00      0.00      0.00         8\n",
            "\n",
            "    accuracy                           0.52       750\n",
            "   macro avg       0.29      0.29      0.29       750\n",
            "weighted avg       0.52      0.52      0.52       750\n",
            "\n",
            "accuracy 0.524\n",
            "f1 score 0.2862229347570393\n"
          ]
        }
      ]
    },
    {
      "cell_type": "markdown",
      "source": [
        "## **LSTM (Long Short Term Memory)**"
      ],
      "metadata": {
        "id": "QORY3jJ2q0rs"
      }
    },
    {
      "cell_type": "code",
      "source": [
        "from keras.layers import LSTM"
      ],
      "metadata": {
        "id": "4OcBwr9pijwZ"
      },
      "execution_count": null,
      "outputs": []
    },
    {
      "cell_type": "code",
      "source": [
        "label_mapping = {'economic': 0, 'politics': 1, 'sport': 2, 'tech': 3}\n",
        "\n",
        "num_class = len(set(label_mapping.values()))\n",
        "\n",
        "# Encode the categorical labels into numerical format using the mapping\n",
        "y_train_encoded_manual = np.array([label_mapping[label] for label in y_train])\n",
        "y_test_encoded_manual = np.array([label_mapping[label] for label in y_test])\n",
        "\n",
        "# Convert labels to one-hot encoding\n",
        "y_train_one_hot = to_categorical(y_train_encoded_manual, num_classes=num_class)\n",
        "y_test_one_hot = to_categorical(y_test_encoded_manual, num_classes=num_class)\n",
        "\n",
        "# Reshape the input data to add a timestep dimension\n",
        "X_train_reshaped = tfidf_train_feature.values.reshape(-1, 1, tfidf_train_feature.shape[1])\n",
        "X_test_reshaped = tfidf_test_feature.values.reshape(-1, 1, tfidf_test_feature.shape[1])\n",
        "\n",
        "model = Sequential()\n",
        "\n",
        "# Add LSTM layer\n",
        "model.add(LSTM(units=64, input_shape=(1, tfidf_train_feature.shape[1]))) # Shape is (timesteps, features)\n",
        "\n",
        "# Add output layer\n",
        "model.add(Dense(units=num_class, activation='softmax'))\n",
        "\n",
        "# Compile the model with categorical_crossentropy for one-hot encoded labels\n",
        "model.compile(optimizer='adam', loss='categorical_crossentropy', metrics=['accuracy'])\n",
        "\n",
        "# Train the model using the one-hot encoded labels\n",
        "model.fit(X_train_reshaped, y_train_one_hot, epochs=10, batch_size=32)\n",
        "\n",
        "# Predict probabilities for the test set\n",
        "y_pred_probabilities = model.predict(X_test_reshaped)\n",
        "\n",
        "# Convert probabilities to class labels\n",
        "y_pred_encoded_manual = np.argmax(y_pred_probabilities, axis=1)\n",
        "\n",
        "print(\"Classification Report:\")\n",
        "print(classification_report(y_test_one_hot.argmax(axis=1), y_pred_encoded_manual))\n",
        "\n",
        "accuracy_LSTM = accuracy_score(y_test_one_hot.argmax(axis=1), y_pred_encoded_manual)\n",
        "f1_LSTM = f1_score(y_test_one_hot.argmax(axis=1), y_pred_encoded_manual,average='macro')\n",
        "print('accuracy',accuracy_LSTM)\n",
        "print('f1 score',f1_LSTM)"
      ],
      "metadata": {
        "colab": {
          "base_uri": "https://localhost:8080/"
        },
        "id": "3QiEMsM497Xv",
        "outputId": "370f33a0-445a-4e25-d843-34925a81818f"
      },
      "execution_count": null,
      "outputs": [
        {
          "output_type": "stream",
          "name": "stdout",
          "text": [
            "Epoch 1/10\n",
            "133/133 [==============================] - 5s 8ms/step - loss: 1.1169 - accuracy: 0.6014\n",
            "Epoch 2/10\n",
            "133/133 [==============================] - 1s 6ms/step - loss: 0.6829 - accuracy: 0.7181\n",
            "Epoch 3/10\n",
            "133/133 [==============================] - 1s 4ms/step - loss: 0.4530 - accuracy: 0.8560\n",
            "Epoch 4/10\n",
            "133/133 [==============================] - 1s 4ms/step - loss: 0.3671 - accuracy: 0.8755\n",
            "Epoch 5/10\n",
            "133/133 [==============================] - 1s 4ms/step - loss: 0.3322 - accuracy: 0.8819\n",
            "Epoch 6/10\n",
            "133/133 [==============================] - 1s 4ms/step - loss: 0.3122 - accuracy: 0.8894\n",
            "Epoch 7/10\n",
            "133/133 [==============================] - 1s 4ms/step - loss: 0.2989 - accuracy: 0.8960\n",
            "Epoch 8/10\n",
            "133/133 [==============================] - 1s 4ms/step - loss: 0.2880 - accuracy: 0.8998\n",
            "Epoch 9/10\n",
            "133/133 [==============================] - 1s 4ms/step - loss: 0.2790 - accuracy: 0.8995\n",
            "Epoch 10/10\n",
            "133/133 [==============================] - 1s 6ms/step - loss: 0.2712 - accuracy: 0.9000\n",
            "24/24 [==============================] - 1s 3ms/step\n",
            "Classification Report:\n",
            "              precision    recall  f1-score   support\n",
            "\n",
            "           0       0.24      0.18      0.20       134\n",
            "           1       0.67      0.69      0.68       488\n",
            "           2       0.19      0.24      0.22       120\n",
            "           3       0.00      0.00      0.00         8\n",
            "\n",
            "    accuracy                           0.52       750\n",
            "   macro avg       0.28      0.28      0.28       750\n",
            "weighted avg       0.51      0.52      0.51       750\n",
            "\n",
            "accuracy 0.5186666666666667\n",
            "f1 score 0.2751799414695879\n"
          ]
        }
      ]
    },
    {
      "cell_type": "markdown",
      "source": [
        "## **GRU (Gate Recurrent Unit)**"
      ],
      "metadata": {
        "id": "TuQprZ2Ci08D"
      }
    },
    {
      "cell_type": "code",
      "source": [
        "from keras.layers import GRU"
      ],
      "metadata": {
        "id": "5krtTnpUXSv6"
      },
      "execution_count": null,
      "outputs": []
    },
    {
      "cell_type": "code",
      "source": [
        "label_mapping = {'economic': 0, 'politics': 1, 'sport': 2, 'tech': 3}\n",
        "\n",
        "num_class = len(set(label_mapping.values()))\n",
        "\n",
        "# Encode the categorical labels into numerical format using the mapping\n",
        "y_train_encoded_manual = np.array([label_mapping[label] for label in y_train])\n",
        "y_test_encoded_manual = np.array([label_mapping[label] for label in y_test])\n",
        "\n",
        "# Convert labels to one-hot encoding\n",
        "y_train_one_hot = to_categorical(y_train_encoded_manual, num_classes=num_class)\n",
        "y_test_one_hot = to_categorical(y_test_encoded_manual, num_classes=num_class)\n",
        "\n",
        "# Reshape the input data to add a timestep dimension\n",
        "X_train_reshaped = tfidf_train_feature.values.reshape(-1, 1, tfidf_train_feature.shape[1])\n",
        "X_test_reshaped = tfidf_test_feature.values.reshape(-1, 1, tfidf_test_feature.shape[1])\n",
        "\n",
        "model = Sequential()\n",
        "\n",
        "# Add GRU layer\n",
        "model.add(GRU(units=64, input_shape=(1, tfidf_train_feature.shape[1]))) # Shape is (timesteps, features)\n",
        "\n",
        "# Add output layer\n",
        "model.add(Dense(units=num_class, activation='softmax'))\n",
        "\n",
        "# Compile the model with categorical_crossentropy for one-hot encoded labels\n",
        "model.compile(optimizer='adam', loss='categorical_crossentropy', metrics=['accuracy'])\n",
        "\n",
        "# Train the model using the one-hot encoded labels\n",
        "model.fit(X_train_reshaped, y_train_one_hot, epochs=10, batch_size=32)\n",
        "\n",
        "# Predict probabilities for the test set\n",
        "y_pred_probabilities = model.predict(X_test_reshaped)\n",
        "\n",
        "# Convert probabilities to class labels\n",
        "y_pred_encoded_manual = np.argmax(y_pred_probabilities, axis=1)\n",
        "\n",
        "print(\"Classification Report:\")\n",
        "print(classification_report(y_test_one_hot.argmax(axis=1), y_pred_encoded_manual))\n",
        "\n",
        "accuracy_GRU = accuracy_score(y_test_one_hot.argmax(axis=1), y_pred_encoded_manual)\n",
        "f1_GRU= f1_score(y_test_one_hot.argmax(axis=1), y_pred_encoded_manual,average='macro')\n",
        "print('accuracy',accuracy_GRU)\n",
        "print('f1 score',f1_GRU)\n"
      ],
      "metadata": {
        "colab": {
          "base_uri": "https://localhost:8080/"
        },
        "id": "XLdlDNAQApp_",
        "outputId": "ace657d1-554e-41ee-cc6c-279ddf5fb6f0"
      },
      "execution_count": null,
      "outputs": [
        {
          "output_type": "stream",
          "name": "stdout",
          "text": [
            "Epoch 1/10\n",
            "133/133 [==============================] - 3s 4ms/step - loss: 0.9932 - accuracy: 0.6129\n",
            "Epoch 2/10\n",
            "133/133 [==============================] - 1s 4ms/step - loss: 0.5693 - accuracy: 0.8054\n",
            "Epoch 3/10\n",
            "133/133 [==============================] - 1s 4ms/step - loss: 0.4038 - accuracy: 0.8713\n",
            "Epoch 4/10\n",
            "133/133 [==============================] - 1s 4ms/step - loss: 0.3471 - accuracy: 0.8824\n",
            "Epoch 5/10\n",
            "133/133 [==============================] - 1s 4ms/step - loss: 0.3203 - accuracy: 0.8885\n",
            "Epoch 6/10\n",
            "133/133 [==============================] - 1s 4ms/step - loss: 0.3030 - accuracy: 0.8948\n",
            "Epoch 7/10\n",
            "133/133 [==============================] - 0s 4ms/step - loss: 0.2907 - accuracy: 0.8955\n",
            "Epoch 8/10\n",
            "133/133 [==============================] - 1s 4ms/step - loss: 0.2810 - accuracy: 0.8965\n",
            "Epoch 9/10\n",
            "133/133 [==============================] - 0s 4ms/step - loss: 0.2733 - accuracy: 0.9005\n",
            "Epoch 10/10\n",
            "133/133 [==============================] - 1s 4ms/step - loss: 0.2676 - accuracy: 0.9033\n",
            "24/24 [==============================] - 0s 2ms/step\n",
            "Classification Report:\n",
            "              precision    recall  f1-score   support\n",
            "\n",
            "           0       0.25      0.18      0.21       134\n",
            "           1       0.67      0.70      0.68       488\n",
            "           2       0.19      0.23      0.21       120\n",
            "           3       0.00      0.00      0.00         8\n",
            "\n",
            "    accuracy                           0.52       750\n",
            "   macro avg       0.28      0.28      0.28       750\n",
            "weighted avg       0.51      0.52      0.52       750\n",
            "\n",
            "accuracy 0.5226666666666666\n",
            "f1 score 0.27561110773467484\n"
          ]
        }
      ]
    },
    {
      "cell_type": "markdown",
      "metadata": {
        "id": "YhqfiRZR5rzI"
      },
      "source": [
        "# **Plot**"
      ]
    },
    {
      "cell_type": "code",
      "source": [
        "models = ['Naive Bayes', 'Decision Tree', 'RNN', 'LSTM', 'GRU']\n",
        "accuracies = [accuracy_NB, accuracy_DT, accuracy_RNN, accuracy_LSTM, accuracy_GRU]\n",
        "f1_scores = [f1_NB, f1_DT, f1_RNN, f1_LSTM, f1_GRU]\n",
        "\n",
        "x = np.arange(len(models))\n",
        "width = 0.35\n",
        "\n",
        "fig, ax = plt.subplots()\n",
        "rects1 = ax.bar(x - width/2, accuracies, width, label='Accuracy',color='lightblue')\n",
        "rects2 = ax.bar(x + width/2, f1_scores, width, label='F1 Score',color='pink')\n",
        "\n",
        "ax.set_ylabel('Scores')\n",
        "ax.set_title('Accuracy and F1 Score by Model using TF-IDF embeddings')\n",
        "ax.set_xticks(x)\n",
        "ax.set_xticklabels(models)\n",
        "ax.legend()\n",
        "\n",
        "ax.set_ylim(0,0.7)\n",
        "fig.tight_layout()\n",
        "plt.show()"
      ],
      "metadata": {
        "colab": {
          "base_uri": "https://localhost:8080/"
        },
        "id": "XICP1ZeR5iIN",
        "outputId": "0f150d73-5e5d-4077-d48b-009ad817dd59"
      },
      "execution_count": null,
      "outputs": [
        {
          "output_type": "display_data",
          "data": {
            "text/plain": [
              "<Figure size 640x480 with 1 Axes>"
            ],
            "image/png": "[encoded data removed]"
          },
          "metadata": {}
        }
      ]
    }
  ]
}